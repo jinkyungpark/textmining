{
 "cells": [
  {
   "cell_type": "markdown",
   "metadata": {},
   "source": [
    "# 네이버 뉴스 데이터 가져오기\n",
    "\n",
    "> 1. 네이버 오픈 API로 기사 URL 크롤링\n",
    "> 2. bs4 + selenium으로 기사 제목 및 내용 크롤링"
   ]
  },
  {
   "cell_type": "code",
   "execution_count": 23,
   "metadata": {},
   "outputs": [],
   "source": [
    "import os\n",
    "import sys\n",
    "import urllib.request\n",
    "import requests\n",
    "\n",
    "news_data = []\n",
    "page_count = 3\n",
    "\n",
    "client_id = \"FKiGMtBKKxeO3FyrSUPJ\"\n",
    "client_secret = \"aCZo94oqqw\"\n",
    "encText = urllib.parse.quote(\"파이썬\")\n",
    "\n",
    "for idx in range(page_count):\n",
    "    # json 결과\n",
    "    url = \"https://openapi.naver.com/v1/search/news?query=\" + encText + \"&start=\" + str(idx * 10 + 1)\n",
    "    # url = \"https://openapi.naver.com/v1/search/blog.xml?query=\" + encText # xml 결과\n",
    "    request = urllib.request.Request(url)\n",
    "    request.add_header(\"X-Naver-Client-Id\",client_id)\n",
    "    request.add_header(\"X-Naver-Client-Secret\",client_secret)\n",
    "    response = urllib.request.urlopen(request)\n",
    "    rescode = response.getcode()\n",
    "\n",
    "    if(rescode==200):\n",
    "    #    response_body = response.read()\n",
    "        result = requests.get(response.geturl(),\n",
    "                              headers={\"X-Naver-Client-Id\":client_id,\n",
    "                                       \"X-Naver-Client-Secret\":client_secret}\n",
    "                             )\n",
    "        news_data.append(result.json())\n",
    "    #    print(response_body.decode('utf-8'))\n",
    "    else:\n",
    "        print(\"Error Code:\" + rescode)"
   ]
  },
  {
   "cell_type": "code",
   "execution_count": 40,
   "metadata": {},
   "outputs": [
    {
     "name": "stdout",
     "output_type": "stream",
     "text": [
      "http://www.irobotnews.com/news/articleView.html?idxno=25438\n"
     ]
    }
   ],
   "source": [
    "# print(news_data)\n",
    "# print(len(news_data))\n",
    "# print(news_data[0])\n",
    "# print(news_data[0]['items'])\n",
    "# print(len(news_data[0]['items']))\n",
    "# print(news_data[0]['items'][2])\n",
    "print(news_data[0]['items'][7]['link'])"
   ]
  },
  {
   "cell_type": "code",
   "execution_count": 25,
   "metadata": {},
   "outputs": [
    {
     "name": "stdout",
     "output_type": "stream",
     "text": [
      "https://news.naver.com/main/read.nhn?mode=LSD&mid=sec&sid1=101&oid=417&aid=0000710301\n",
      "https://news.naver.com/main/read.nhn?mode=LSD&mid=sec&sid1=105&oid=138&aid=0002106033\n",
      "https://news.naver.com/main/read.nhn?mode=LSD&mid=sec&sid1=102&oid=018&aid=0004971460\n",
      "https://news.naver.com/main/read.nhn?mode=LSD&mid=sec&sid1=101&oid=015&aid=0004570130\n",
      "https://news.naver.com/main/read.nhn?mode=LSD&mid=sec&sid1=004&oid=138&aid=0002105960\n",
      "https://news.naver.com/main/read.nhn?mode=LSD&mid=sec&sid1=101&oid=277&aid=0004928707\n",
      "https://news.naver.com/main/read.nhn?mode=LSD&mid=sec&sid1=105&oid=417&aid=0000709408\n"
     ]
    }
   ],
   "source": [
    "naver_news_link = []\n",
    "\n",
    "for page in news_data:\n",
    "    #print(page)\n",
    "    page_news_link = []\n",
    "    \n",
    "    for item in page['items']:\n",
    "        #print(item)\n",
    "        temp_link = item['link']\n",
    "        #print(temp_link)\n",
    "        if \"naver\" in temp_link:\n",
    "            page_news_link.append(temp_link)\n",
    "    \n",
    "    naver_news_link.append(page_news_link)\n",
    "        \n",
    "\n",
    "# 사이트 확인하기에 편한 코드 구조.\n",
    "for page in naver_news_link:\n",
    "    for link in page:\n",
    "        print(link)"
   ]
  },
  {
   "cell_type": "code",
   "execution_count": 9,
   "metadata": {},
   "outputs": [
    {
     "name": "stdout",
     "output_type": "stream",
     "text": [
      "Collecting selenium\n",
      "  Using cached selenium-3.141.0-py2.py3-none-any.whl (904 kB)\n",
      "Requirement already satisfied: urllib3 in d:\\anaconda\\envs\\textmining\\lib\\site-packages (from selenium) (1.25.9)\n",
      "Installing collected packages: selenium\n",
      "Successfully installed selenium-3.141.0\n"
     ]
    }
   ],
   "source": [
    "!pip install selenium"
   ]
  },
  {
   "cell_type": "code",
   "execution_count": 26,
   "metadata": {},
   "outputs": [],
   "source": [
    "import pandas as pd\n",
    "import numpy as np\n",
    "from selenium import webdriver\n",
    "from tqdm.notebook import tqdm\n",
    "import requests\n",
    "import pickle\n",
    "import re\n",
    "import ast\n",
    "\n",
    "from bs4 import BeautifulSoup \n",
    "from urllib.request import urlopen\n",
    "import urllib\n",
    "import time"
   ]
  },
  {
   "cell_type": "code",
   "execution_count": 27,
   "metadata": {},
   "outputs": [],
   "source": [
    "# 가상 크롬드라이버를 불러옴.\n",
    "# 윈도우 10의 경우 chromedriver.exe\n",
    "driver = webdriver.Chrome('driver/chromedriver')"
   ]
  },
  {
   "cell_type": "code",
   "execution_count": 28,
   "metadata": {},
   "outputs": [
    {
     "data": {
      "application/vnd.jupyter.widget-view+json": {
       "model_id": "750fc822308849fb8b7f14a3e4bf806e",
       "version_major": 2,
       "version_minor": 0
      },
      "text/plain": [
       "HBox(children=(FloatProgress(value=0.0, max=3.0), HTML(value='')))"
      ]
     },
     "metadata": {},
     "output_type": "display_data"
    },
    {
     "data": {
      "application/vnd.jupyter.widget-view+json": {
       "model_id": "fc9aa6b6e42d4deca0205ec5f0317e43",
       "version_major": 2,
       "version_minor": 0
      },
      "text/plain": [
       "HBox(children=(FloatProgress(value=0.0, max=1.0), HTML(value='')))"
      ]
     },
     "metadata": {},
     "output_type": "display_data"
    },
    {
     "name": "stdout",
     "output_type": "stream",
     "text": [
      "https://news.naver.com/main/read.nhn?mode=LSD&mid=sec&sid1=101&oid=417&aid=0000710301\n",
      "\n"
     ]
    },
    {
     "data": {
      "application/vnd.jupyter.widget-view+json": {
       "model_id": "6586d4cd9d954dcbbd1172c0108d8668",
       "version_major": 2,
       "version_minor": 0
      },
      "text/plain": [
       "HBox(children=(FloatProgress(value=0.0, max=2.0), HTML(value='')))"
      ]
     },
     "metadata": {},
     "output_type": "display_data"
    },
    {
     "name": "stdout",
     "output_type": "stream",
     "text": [
      "https://news.naver.com/main/read.nhn?mode=LSD&mid=sec&sid1=105&oid=138&aid=0002106033\n",
      "https://news.naver.com/main/read.nhn?mode=LSD&mid=sec&sid1=102&oid=018&aid=0004971460\n",
      "\n"
     ]
    },
    {
     "data": {
      "application/vnd.jupyter.widget-view+json": {
       "model_id": "21229cabc70e4f0785b904e2b2dca17a",
       "version_major": 2,
       "version_minor": 0
      },
      "text/plain": [
       "HBox(children=(FloatProgress(value=0.0, max=4.0), HTML(value='')))"
      ]
     },
     "metadata": {},
     "output_type": "display_data"
    },
    {
     "name": "stdout",
     "output_type": "stream",
     "text": [
      "https://news.naver.com/main/read.nhn?mode=LSD&mid=sec&sid1=101&oid=015&aid=0004570130\n",
      "https://news.naver.com/main/read.nhn?mode=LSD&mid=sec&sid1=004&oid=138&aid=0002105960\n",
      "https://news.naver.com/main/read.nhn?mode=LSD&mid=sec&sid1=101&oid=277&aid=0004928707\n",
      "https://news.naver.com/main/read.nhn?mode=LSD&mid=sec&sid1=105&oid=417&aid=0000709408\n",
      "\n",
      "\n",
      "['에듀테크 스타트업 ‘지니로봇’ 프리 시리즈A 투자 유치']\n",
      "==================================\n",
      "['   본문 내용     TV플레이어     // TV플레이어     // flash 오류를 우회하기 위한 함수 추가 function _flash_removeCallback() {}    IBK 기업은행의 창업육성 프로그램  IBK 창공(創工) 구로 5기 육성기업으로  TIPS  운영사인 액셀러레이터 씨엔티테크㈜(대표 전화성)가 함께 육성을 맡고 있는\\xa0에듀테크 스타트업 ㈜지니로봇(대표 이은승)이 최근  IBK 기업은행과 신용보증기금으로부터 7억원 규모의 ‘프리 시리즈 A’  투자유치를 완료했다고 밝혔다. 지니로봇은 비대면 양방향 다자간 화상 교육 플랫폼 ‘ LIMS  ( Learning   Interactive   Multiple   Service )’와 코딩,  STEAM  및 인공지능 교육이 가능한 올인원 교육용 로봇 ‘지니봇’을 개발, 제조 및 판매하고 있는 에듀테크 스타트업이다.\\xa0 지니로봇이   IBK 기업은행과 신용보증기금으로부터 7억원 규모의 ‘프리 시리즈 A’  투자유치를 완료했다고 밝혔다. (씨엔티테크 제공) 지니봇은 언플러그드 카드 코딩부터 전용 앱, 엔트리, 스크래치  3.0 , 파이썬 등 활용이 가능하며, 비대면 환경에서  LIMS 를 통해 선생님과 학생이 양방향으로 평가, 분석 및 맞춤형 교육이 가능하도록 개발했다.\\xa0 최근 ‘클라우드 플랫폼에 연결된 피어 단말기들을 이용하여 코딩 교육을 제공하는 시스템 및 방법’ 특허 등록이 완료되어 기존 등록된 5개의 특허와 함께 보다 안정적으로 사업을 할 수 있는 발판을 마련했다. 이은승 지니로봇 대표는 “코로나  19 로 인해 비대면 수업이 시작되면서 학습 격차가 점점 벌어지면서 학습의 양극화 현상이 현실화되고 있다”며 학생들이 스스로 공부할 수 있는 환경이 갖춰져야 하는데 “ LIMS ”는 개인 맞춤형 학습 진단·관리를 통해 학생 개개인에게 맞춤형 학습 교육을 제공할 것”이라고 전했다. 지니로봇은 창업진흥원 예비창업패키지 지원사업 1억원을 시작으로 중소벤처기업부  TIPS , 신용보증기금 스타트업  4.0 ,  KOTRA  글로벌 점프  300 , 중소벤처기업부  K- 스타트업 센터 해외 진출 지원 사업 등에 선정되었고, 최근에는 유망청년창업기업  Blue   100  인증과 함께 과학기술정보통신부로부터  ICT   R&D  혁신 사업에 선정되었다. 지니로봇은  2020 년 5월 제품 출시 6개월만에 해외  15 개국에 샘플 판매 및  84 만불의 수출 계약을 체결하였고, 작년에 약 $ 33 만불 수출, 다음달부터  80 만불 수출을 시작으로 올 하반기에 러시아, 벨기에, 베트남, 태국, 사우디아라비아 등 백만불 이상 수출할 것으로 예상하고 있다.\\xa0 현재, 지니로봇은 태국 파트너와 함께 합작법인을 설립 계약을 체결하여 동남 아시아 시장 및 다음달 폴란드 파트너와 합작법인을 설립하여 유럽 시장으로 확대를 진행하고 있다. 이은승 지니로봇 대표는 “이번 투자유치와 정부지원사업을 발판으로 ‘ LIMS’  서비스를 고도화하여 교육 플랫폼 시장을 적극적으로 공략할 계획”이라며 “올해 하반기 시리즈 A 라운드 투자 유치를 통해 스케일업 발판을 마련해 글로벌 에듀테크 기업으로 거듭나기 위해 노력하겠다.”고 포부를 밝혔다.      // 본문 내용   ']\n"
     ]
    }
   ],
   "source": [
    "naver_news_title = []\n",
    "naver_news_content = []\n",
    "\n",
    "\n",
    "for n in tqdm(range(len(naver_news_link))):\n",
    "    #print(n)\n",
    "    news_page_title = []\n",
    "    news_page_content = []\n",
    "    \n",
    "    for idx in tqdm(range(len(naver_news_link[n]))):\n",
    "        \n",
    "        \n",
    "    ########### 긁어온 URL로 접속하기 ############    \n",
    "        try:\n",
    "            driver.get(naver_news_link[n][idx])\n",
    "            print(naver_news_link[n][idx])\n",
    "            \n",
    "        except:\n",
    "            print(\"Timeout!\")\n",
    "            continue\n",
    "        \n",
    "        \n",
    "        try:\n",
    "            response = driver.page_source\n",
    "            \n",
    "        except UnexpectedAlertPresentException:\n",
    "            driver.switch_to_alert().accept()\n",
    "            print(\"게시글이 삭제된 경우입니다.\")\n",
    "            continue\n",
    "        \n",
    "        soup = BeautifulSoup(response, \"html.parser\")\n",
    "        \n",
    "        ###### 뉴스 타이틀 긁어오기 ######\n",
    "        \n",
    "        title = None\n",
    "        \n",
    "        try:\n",
    "            item = soup.find('div', class_=\"article_info\")\n",
    "            title = item.find('h3', class_=\"tts_head\").get_text()\n",
    "            #print(title)\n",
    "\n",
    "        except:\n",
    "            title = \"OUTLINK\"\n",
    "        \n",
    "        #print(title)\n",
    "        news_page_title.append(title)\n",
    "        \n",
    "        \n",
    "        ###### 뉴스 본문 긁어오기 ######\n",
    "        \n",
    "        doc = None\n",
    "        text = \"\"\n",
    "                \n",
    "        data = soup.find_all(\"div\", {\"class\" : \"_article_body_contents\"})\n",
    "        if data:\n",
    "            for item in data:\n",
    "\n",
    "                text = text + str(item.find_all(text=True)).strip()\n",
    "                text = ast.literal_eval(text)\n",
    "                doc = ' '.join(text)\n",
    "   \n",
    "        else:\n",
    "            doc = \"OUTLINK\"\n",
    "            \n",
    "        news_page_content.append(doc.replace('\\n', ' '))\n",
    "\n",
    "                \n",
    "    naver_news_title.append(news_page_title)\n",
    "    naver_news_content.append(news_page_content)\n",
    "\n",
    "    time.sleep(2)\n",
    "    \n",
    "    \n",
    "print(naver_news_title[0])\n",
    "print(\"==================================\")\n",
    "print(naver_news_content[0])"
   ]
  },
  {
   "cell_type": "code",
   "execution_count": 29,
   "metadata": {},
   "outputs": [
    {
     "name": "stdout",
     "output_type": "stream",
     "text": [
      "['에듀테크 스타트업 ‘지니로봇’ 프리 시리즈A 투자 유치']\n"
     ]
    }
   ],
   "source": [
    "print(naver_news_title[0])"
   ]
  },
  {
   "cell_type": "code",
   "execution_count": 30,
   "metadata": {},
   "outputs": [
    {
     "name": "stdout",
     "output_type": "stream",
     "text": [
      "['   본문 내용     TV플레이어     // TV플레이어     // flash 오류를 우회하기 위한 함수 추가 function _flash_removeCallback() {}    IBK 기업은행의 창업육성 프로그램  IBK 창공(創工) 구로 5기 육성기업으로  TIPS  운영사인 액셀러레이터 씨엔티테크㈜(대표 전화성)가 함께 육성을 맡고 있는\\xa0에듀테크 스타트업 ㈜지니로봇(대표 이은승)이 최근  IBK 기업은행과 신용보증기금으로부터 7억원 규모의 ‘프리 시리즈 A’  투자유치를 완료했다고 밝혔다. 지니로봇은 비대면 양방향 다자간 화상 교육 플랫폼 ‘ LIMS  ( Learning   Interactive   Multiple   Service )’와 코딩,  STEAM  및 인공지능 교육이 가능한 올인원 교육용 로봇 ‘지니봇’을 개발, 제조 및 판매하고 있는 에듀테크 스타트업이다.\\xa0 지니로봇이   IBK 기업은행과 신용보증기금으로부터 7억원 규모의 ‘프리 시리즈 A’  투자유치를 완료했다고 밝혔다. (씨엔티테크 제공) 지니봇은 언플러그드 카드 코딩부터 전용 앱, 엔트리, 스크래치  3.0 , 파이썬 등 활용이 가능하며, 비대면 환경에서  LIMS 를 통해 선생님과 학생이 양방향으로 평가, 분석 및 맞춤형 교육이 가능하도록 개발했다.\\xa0 최근 ‘클라우드 플랫폼에 연결된 피어 단말기들을 이용하여 코딩 교육을 제공하는 시스템 및 방법’ 특허 등록이 완료되어 기존 등록된 5개의 특허와 함께 보다 안정적으로 사업을 할 수 있는 발판을 마련했다. 이은승 지니로봇 대표는 “코로나  19 로 인해 비대면 수업이 시작되면서 학습 격차가 점점 벌어지면서 학습의 양극화 현상이 현실화되고 있다”며 학생들이 스스로 공부할 수 있는 환경이 갖춰져야 하는데 “ LIMS ”는 개인 맞춤형 학습 진단·관리를 통해 학생 개개인에게 맞춤형 학습 교육을 제공할 것”이라고 전했다. 지니로봇은 창업진흥원 예비창업패키지 지원사업 1억원을 시작으로 중소벤처기업부  TIPS , 신용보증기금 스타트업  4.0 ,  KOTRA  글로벌 점프  300 , 중소벤처기업부  K- 스타트업 센터 해외 진출 지원 사업 등에 선정되었고, 최근에는 유망청년창업기업  Blue   100  인증과 함께 과학기술정보통신부로부터  ICT   R&D  혁신 사업에 선정되었다. 지니로봇은  2020 년 5월 제품 출시 6개월만에 해외  15 개국에 샘플 판매 및  84 만불의 수출 계약을 체결하였고, 작년에 약 $ 33 만불 수출, 다음달부터  80 만불 수출을 시작으로 올 하반기에 러시아, 벨기에, 베트남, 태국, 사우디아라비아 등 백만불 이상 수출할 것으로 예상하고 있다.\\xa0 현재, 지니로봇은 태국 파트너와 함께 합작법인을 설립 계약을 체결하여 동남 아시아 시장 및 다음달 폴란드 파트너와 합작법인을 설립하여 유럽 시장으로 확대를 진행하고 있다. 이은승 지니로봇 대표는 “이번 투자유치와 정부지원사업을 발판으로 ‘ LIMS’  서비스를 고도화하여 교육 플랫폼 시장을 적극적으로 공략할 계획”이라며 “올해 하반기 시리즈 A 라운드 투자 유치를 통해 스케일업 발판을 마련해 글로벌 에듀테크 기업으로 거듭나기 위해 노력하겠다.”고 포부를 밝혔다.      // 본문 내용   ']\n"
     ]
    }
   ],
   "source": [
    "print(naver_news_content[0])"
   ]
  },
  {
   "cell_type": "code",
   "execution_count": 31,
   "metadata": {},
   "outputs": [
    {
     "name": "stdout",
     "output_type": "stream",
     "text": [
      "1\n",
      "1\n"
     ]
    }
   ],
   "source": [
    "print(len(naver_news_title[0]))\n",
    "print(len(naver_news_content[0]))"
   ]
  },
  {
   "cell_type": "code",
   "execution_count": 32,
   "metadata": {},
   "outputs": [],
   "source": [
    "with open(\"data/naver_news_title.pk\", \"wb\") as f:\n",
    "    pickle.dump(naver_news_title, f)\n",
    "    \n",
    "with open(\"data/naver_news_content.pk\", \"wb\") as f:\n",
    "    pickle.dump(naver_news_content, f)"
   ]
  },
  {
   "cell_type": "code",
   "execution_count": null,
   "metadata": {},
   "outputs": [],
   "source": []
  }
 ],
 "metadata": {
  "hide_input": false,
  "kernelspec": {
   "display_name": "Python 3",
   "language": "python",
   "name": "python3"
  },
  "language_info": {
   "codemirror_mode": {
    "name": "ipython",
    "version": 3
   },
   "file_extension": ".py",
   "mimetype": "text/x-python",
   "name": "python",
   "nbconvert_exporter": "python",
   "pygments_lexer": "ipython3",
   "version": "3.6.10"
  },
  "toc": {
   "base_numbering": 1,
   "nav_menu": {},
   "number_sections": true,
   "sideBar": true,
   "skip_h1_title": false,
   "title_cell": "Table of Contents",
   "title_sidebar": "Contents",
   "toc_cell": false,
   "toc_position": {},
   "toc_section_display": true,
   "toc_window_display": false
  },
  "varInspector": {
   "cols": {
    "lenName": 16,
    "lenType": 16,
    "lenVar": 40
   },
   "kernels_config": {
    "python": {
     "delete_cmd_postfix": "",
     "delete_cmd_prefix": "del ",
     "library": "var_list.py",
     "varRefreshCmd": "print(var_dic_list())"
    },
    "r": {
     "delete_cmd_postfix": ") ",
     "delete_cmd_prefix": "rm(",
     "library": "var_list.r",
     "varRefreshCmd": "cat(var_dic_list()) "
    }
   },
   "types_to_exclude": [
    "module",
    "function",
    "builtin_function_or_method",
    "instance",
    "_Feature"
   ],
   "window_display": false
  }
 },
 "nbformat": 4,
 "nbformat_minor": 2
}
