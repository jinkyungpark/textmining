{
 "cells": [
  {
   "cell_type": "markdown",
   "metadata": {},
   "source": [
    "## gensim으로 네이버 기사 토픽 모델링 해보기"
   ]
  },
  {
   "cell_type": "markdown",
   "metadata": {},
   "source": [
    "> 토픽 모델링을 적용하기 위해 텍스트를 처리합니다.\n",
    "\n",
    "> 토픽 모델링 라이브러리인 gensim을 사용해봅니다."
   ]
  },
  {
   "cell_type": "code",
   "execution_count": 1,
   "metadata": {},
   "outputs": [
    {
     "name": "stdout",
     "output_type": "stream",
     "text": [
      "Collecting gensim\n",
      "  Downloading gensim-4.0.1-cp36-cp36m-win_amd64.whl (23.9 MB)\n",
      "Requirement already satisfied: scipy>=0.18.1 in d:\\anaconda\\envs\\textmining\\lib\\site-packages (from gensim) (1.5.0)\n",
      "Requirement already satisfied: numpy>=1.11.3 in d:\\anaconda\\envs\\textmining\\lib\\site-packages (from gensim) (1.17.0)\n",
      "Requirement already satisfied: Cython==0.29.21 in d:\\anaconda\\envs\\textmining\\lib\\site-packages (from gensim) (0.29.21)\n",
      "Collecting smart-open>=1.8.1\n",
      "  Downloading smart_open-5.1.0-py3-none-any.whl (57 kB)\n",
      "Collecting dataclasses; python_version < \"3.7\"\n",
      "  Downloading dataclasses-0.8-py3-none-any.whl (19 kB)\n",
      "Installing collected packages: smart-open, dataclasses, gensim\n",
      "Successfully installed dataclasses-0.8 gensim-4.0.1 smart-open-5.1.0\n"
     ]
    }
   ],
   "source": [
    "!pip install gensim"
   ]
  },
  {
   "cell_type": "markdown",
   "metadata": {},
   "source": [
    "### 토픽 모델링을 위한 라이브러리 불러오기"
   ]
  },
  {
   "cell_type": "code",
   "execution_count": 1,
   "metadata": {},
   "outputs": [
    {
     "name": "stderr",
     "output_type": "stream",
     "text": [
      "D:\\anaconda\\envs\\textmining\\lib\\site-packages\\gensim\\similarities\\__init__.py:15: UserWarning: The gensim.similarities.levenshtein submodule is disabled, because the optional Levenshtein package <https://pypi.org/project/python-Levenshtein/> is unavailable. Install Levenhstein (e.g. `pip install python-Levenshtein`) to suppress this warning.\n",
      "  warnings.warn(msg)\n"
     ]
    }
   ],
   "source": [
    "# progress bar\n",
    "from tqdm.notebook import tqdm\n",
    "\n",
    "# Mecab, Okt 등 형태소 분석기 불러오기\n",
    "import MeCab\n",
    "from konlpy.tag import Okt\n",
    "\n",
    "# 특수문자\n",
    "import string\n",
    "\n",
    "# 경고 알림 제거를 위한 라이브러리\n",
    "import warnings\n",
    "\n",
    "# gensim에서 사용하는 vectorizer 모듈과, LDA model을 불러온다.\n",
    "from gensim import corpora\n",
    "from gensim import models\n",
    "\n",
    "import numpy as np\n",
    "import re\n",
    "import pickle\n",
    "import matplotlib.pyplot as pltb\n",
    "# %matplotlib inline\n",
    "warnings.filterwarnings(\"ignore\", category=DeprecationWarning) # 경고 알림이 뜨면 모두 무시합니다."
   ]
  },
  {
   "cell_type": "code",
   "execution_count": 2,
   "metadata": {},
   "outputs": [],
   "source": [
    "import re\n",
    "\n",
    "mecab = MeCab.Tagger()\n",
    "\n",
    "def mecab_pos(text):\n",
    "    pos = []\n",
    "    \n",
    "    # 우리가 원하는 TOKEN\\tPOS 의 형태를 추출하는 정규 표현식\n",
    "    pattern = re.compile(\".*\\t[A-Z]+\")\n",
    "    \n",
    "    # 패턴에 맞는 문자열을 추출하여 konlpy의 mecab 결과와 같아지도록 수정\n",
    "    pos = [tuple(pattern.match(token).group(0).split(\"\\t\")) \n",
    "                   for token in mecab.parse(text).splitlines()[:-1]]\n",
    "    \n",
    "    return pos"
   ]
  },
  {
   "cell_type": "code",
   "execution_count": 3,
   "metadata": {},
   "outputs": [],
   "source": [
    "def mecab_nouns(text):\n",
    "    nouns = []\n",
    "    \n",
    "    # 우리가 원하는 TOKEN\\tPOS 의 형태를 추출하는 정규 표현식\n",
    "    pattern = re.compile(\".*\\t[A-Z]+\")\n",
    "    \n",
    "    \n",
    "    temp = [tuple(pattern.match(token).group(0).split(\"\\t\")) \n",
    "                   for token in mecab.parse(text).splitlines()[:-1]]\n",
    "    \n",
    "    for token in temp:\n",
    "        if token[1] == \"NNG\" or token[1]==\"NNP\" or token[1]==\"NNB\" or token[1]==\"NNBC\" or token[1]==\"NP\" or token[1]==\"NR\":\n",
    "            nouns.append(token[0]) \n",
    "    return nouns"
   ]
  },
  {
   "cell_type": "code",
   "execution_count": 4,
   "metadata": {},
   "outputs": [],
   "source": [
    "# mecab_morphs 도 작성\n",
    "def mecab_morphs(text):\n",
    "    morphs = []\n",
    "    \n",
    "    # 우리가 원하는 TOKEN\\tPOS 의 형태를 추출하는 정규 표현식\n",
    "    pattern = re.compile(\".*\\t[A-Z]+\")\n",
    "    \n",
    "    # 패턴에 맞는 문자열을 추출하여 konlpy의 mecab 결과와 같아지도록 수정\n",
    "    temp = [tuple(pattern.match(token).group(0).split(\"\\t\")) \n",
    "                   for token in mecab.parse(text).splitlines()[:-1]]\n",
    "    \n",
    "    # 추출한 토큰 중에 문자열만 선택\n",
    "    for token in temp:\n",
    "        morphs.append(token[0])  \n",
    "    \n",
    "    \n",
    "    return morphs"
   ]
  },
  {
   "cell_type": "markdown",
   "metadata": {},
   "source": [
    "### 텍스트 전처리 함수 만들기"
   ]
  },
  {
   "cell_type": "code",
   "execution_count": 7,
   "metadata": {},
   "outputs": [
    {
     "data": {
      "application/vnd.jupyter.widget-view+json": {
       "model_id": "531fe48f1211475b917955bcee2c0311",
       "version_major": 2,
       "version_minor": 0
      },
      "text/plain": [
       "Preprocessing:   0%|          | 0/7 [00:00<?, ?it/s]"
      ]
     },
     "metadata": {},
     "output_type": "display_data"
    }
   ],
   "source": [
    "def read_documents(input_file_name):\n",
    "    \n",
    "    corpus = []\n",
    "    \n",
    "    # pk 파일을 읽어서 리스트로 변환하여 돌려줌.\n",
    "    with open(input_file_name,'rb') as f:\n",
    "        temp_corpus = pickle.load(f)\n",
    "        \n",
    "    # 리스트안의 리스트 형태인걸 일차원 리스트로 변형    \n",
    "    for page in temp_corpus:\n",
    "        corpus += page\n",
    "    \n",
    "    return corpus\n",
    "\n",
    "def text_cleaning(docs):\n",
    "    # 한국어를 제외한 글자를 제거하는 함수를 편의를 위해 조금 변형해보자.\n",
    "    cleaned_docs = []\n",
    "    \n",
    "    for doc in docs:\n",
    "        temp_doc = re.sub(\"[^ㄱ-ㅎㅏ-ㅣ가-힣 ]\", \"\", doc)\n",
    "        cleaned_docs.append(temp_doc)\n",
    "        \n",
    "    return cleaned_docs\n",
    "\n",
    "def define_stopwords(path):\n",
    "    \n",
    "    SW = set()\n",
    "    # 불용어를 추가하는 방법 1.\n",
    "    # 특수 문자를 추가해보자. 파이썬의 특수문자 라이브러리를 이용해서 추가\n",
    "    for i in string.punctuation:\n",
    "        SW.add(i)\n",
    "    \n",
    "    # 불용어를 추가하는 방법 2.\n",
    "    # stopwords-ko.txt에 직접 추가\n",
    "    \n",
    "    with open(path, encoding=\"utf-8\") as f:\n",
    "        for word in f:\n",
    "            SW.add(word)\n",
    "\n",
    "    return SW\n",
    "\n",
    "\n",
    "def text_tokenizing(corpus, tokenizer):\n",
    "    # 명사 추출 / 형태소 분석 두 가지를 선택할 수 있게 만들어주는 함수를 만들어보자.\n",
    "     # tqdm을 사용하여 진행 과정을 볼 수 있게 만들어보자.\n",
    "    \n",
    "    token_corpus = []\n",
    "    \n",
    "    if tokenizer == \"noun\":  # 명사추출\n",
    "        for n in tqdm(range(len(corpus)), desc=\"Preprocessing\"):\n",
    "            token_text = mecab_nouns(corpus[n])\n",
    "            token_text = [word for word in token_text if word not in SW and len(word) > 1]\n",
    "            \n",
    "            token_corpus.append(token_text)\n",
    "            \n",
    "            \n",
    "    elif tokenizer == \"morph\":\n",
    "        for n in tqdm(range(len(corpus)), desc=\"Preprocessing\"):\n",
    "            token_text = mecab_morphs(corpus[n])\n",
    "            token_text = [word for word in token_text if word not in SW and len(word) > 1]\n",
    "            \n",
    "            token_corpus.append(token_text)\n",
    "    \n",
    "    elif tokenizer == \"word\":\n",
    "        for n in tqdm(range(len(corpus)), desc=\"Preprocessing\"):\n",
    "            token_text = corpus[n].split()\n",
    "            token_text = [word for word in token_text if word not in SW and len(word) > 1]\n",
    "            \n",
    "            token_corpus.append(token_text)\n",
    "\n",
    "    return token_corpus\n",
    "\n",
    "# 함수를 불러오는 (메인) 코드.\n",
    "input_file_name = \"data/naver_news_content.pk\"\n",
    "documents = read_documents(input_file_name)\n",
    "SW = define_stopwords(\"data/stopwords-ko.txt\")\n",
    "cleaned_text = text_cleaning(documents)\n",
    "tokenized_text = text_tokenizing(cleaned_text, tokenizer=\"noun\") #tokenizer= \"noun\" or \"morph\" or \"word\""
   ]
  },
  {
   "cell_type": "markdown",
   "metadata": {},
   "source": [
    "문서 읽기의 과정은 앞서 단어 임베딩의 경우와 다르지 않다. 다음 과정은 문서-단어 행렬을 만드는 과정이다."
   ]
  },
  {
   "cell_type": "code",
   "execution_count": 8,
   "metadata": {},
   "outputs": [
    {
     "name": "stdout",
     "output_type": "stream",
     "text": [
      "['본문', '내용', '플레이어', '플레이어', '오류', '우회', '함수', '추가', '기업', '은행', '창업', '육성', '프로그램', '창공', '구로', '육성', '기업', '운영', '사인', '액셀러레이터', '테크', '대표', '전화', '육성', '에듀', '테크', '스타트업', '지니', '로봇', '대표', '이은승', '최근', '기업', '은행', '신용보증기금', '규모', '프리', '시리즈', '투자', '유치', '완료', '로봇', '양방향', '다자간', '화상', '교육', '플랫', '코딩', '인공지능', '교육', '가능', '올인원', '교육', '로봇', '지니', '개발', '제조', '판매', '에듀', '테크', '스타트업', '로봇', '기업', '은행', '신용보증기금', '규모', '프리', '시리즈', '투자', '유치', '완료', '테크', '제공', '지니', '언플러그드', '카드', '코딩', '전용', '엔트리', '스크래치', '파이썬', '활용', '가능', '환경', '선생', '학생', '양방향', '평가', '분석', '맞춤', '교육', '가능', '개발', '최근', '클라우드', '플랫폼', '연결', '피어', '단말기', '이용', '코딩', '교육', '제공', '시스템', '방법', '특허', '등록', '완료', '기존', '등록', '특허', '안정', '사업', '발판', '마련', '이은승', '지니', '로봇', '대표', '코로나', '수업', '시작', '학습', '격차', '학습', '양극', '현상', '현실', '학생', '공부', '환경', '개인', '맞춤', '학습', '진단', '관리', '학생', '개개인', '맞춤', '학습', '교육', '제공', '로봇', '업진', '흥원', '예비', '창업', '패키지', '지원', '사업', '시작', '중소', '벤처', '기업', '신용보증기금', '스타트업', '글로벌', '점프', '중소', '벤처', '기업', '스타트업', '센터', '해외', '진출', '지원', '사업', '선정', '최근', '유망', '청년', '창업', '기업', '인증', '과학', '기술', '정보', '통신부', '혁신', '사업', '선정', '로봇', '제품', '출시', '개월', '해외', '개국', '샘플', '판매', '수출', '계약', '체결', '작년', '수출', '다음', '수출', '시작', '하반기', '러시아', '벨기에', '베트남', '태국', '사우디아라비아', '백만불', '이상', '수출', '예상', '지니', '로봇', '태국', '파트너', '합작', '법인', '설립', '계약', '체결', '동남', '아시아', '시장', '다음', '폴란드', '파트너', '합작', '법인', '설립', '유럽', '시장', '확대', '진행', '이은승', '지니', '로봇', '대표', '이번', '투자', '유치', '정부', '지원', '사업', '발판', '서비스', '고도', '교육', '플랫', '시장', '적극', '공략', '계획', '올해', '하반기', '시리즈', '라운드', '투자', '유치', '스케일', '발판', '마련', '글로벌', '에듀', '테크', '기업', '노력', '포부', '본문', '내용']\n"
     ]
    }
   ],
   "source": [
    "# 결과 확인.\n",
    "print(tokenized_text[0])"
   ]
  },
  {
   "cell_type": "markdown",
   "metadata": {},
   "source": [
    "### 토픽 모델링에 사용할 함수들 확인하기"
   ]
  },
  {
   "cell_type": "code",
   "execution_count": 9,
   "metadata": {},
   "outputs": [],
   "source": [
    "# 문서-단어 행렬 만들기\n",
    "# 어휘(vocabulary) 학습\n",
    "\n",
    "# 파이썬의 dict 개념이긴 하나 키 값은 숫자, value는 단어라고 생각하면 됨\n",
    "dictionary = corpora.Dictionary(tokenized_text)\n",
    "\n",
    "# 문서-단어 행렬(document-term matrix) 생성\n",
    "corpus = [dictionary.doc2bow(text) for text in tokenized_text]"
   ]
  },
  {
   "cell_type": "code",
   "execution_count": 10,
   "metadata": {},
   "outputs": [
    {
     "name": "stdout",
     "output_type": "stream",
     "text": [
      "Dictionary(838 unique tokens: ['가능', '개개인', '개국', '개발', '개월']...)\n"
     ]
    }
   ],
   "source": [
    "# Dictionary 확인\n",
    "print(dictionary)"
   ]
  },
  {
   "cell_type": "code",
   "execution_count": 11,
   "metadata": {},
   "outputs": [
    {
     "data": {
      "text/plain": [
       "[(0, 3), (1, 1), (2, 1), (3, 2), (4, 1)]"
      ]
     },
     "execution_count": 11,
     "metadata": {},
     "output_type": "execute_result"
    }
   ],
   "source": [
    "# corpus 확인\n",
    "corpus[0][:5]"
   ]
  },
  {
   "cell_type": "code",
   "execution_count": 12,
   "metadata": {},
   "outputs": [
    {
     "data": {
      "text/plain": [
       "[(0, 0.04344826865943979),\n",
       " (1, 0.05035980564165338),\n",
       " (2, 0.05035980564165338),\n",
       " (3, 0.04385583331317055),\n",
       " (4, 0.03242128093073332)]"
      ]
     },
     "execution_count": 12,
     "metadata": {},
     "output_type": "execute_result"
    }
   ],
   "source": [
    "# TFIDF 문서-단어 행렬 생성(참고)\n",
    "tfidf = models.TfidfModel(corpus)\n",
    "corpus_tfidf = tfidf[corpus]\n",
    "corpus_tfidf[0][:5]"
   ]
  },
  {
   "cell_type": "code",
   "execution_count": 13,
   "metadata": {},
   "outputs": [],
   "source": [
    "# LDA model 만들기\n",
    "model = models.ldamodel.LdaModel(corpus, num_topics=3, id2word=dictionary)"
   ]
  },
  {
   "cell_type": "code",
   "execution_count": 14,
   "metadata": {},
   "outputs": [
    {
     "data": {
      "text/plain": [
       "[('교육', 0.022510935),\n",
       " ('프로그램', 0.012872439),\n",
       " ('데이터', 0.011067237),\n",
       " ('인공지능', 0.010943264),\n",
       " ('기업', 0.009649448),\n",
       " ('개발자', 0.009471001),\n",
       " ('기술', 0.008038083),\n",
       " ('전공', 0.0078415135),\n",
       " ('분석', 0.0074260877),\n",
       " ('취업', 0.007276602)]"
      ]
     },
     "execution_count": 14,
     "metadata": {},
     "output_type": "execute_result"
    }
   ],
   "source": [
    "# LDA 결과 확인\n",
    "# model.show_topic(topic_no,num_words) \n",
    "\n",
    "model.show_topic(0,10)  #topic 번호 0의 10개 단어보기"
   ]
  },
  {
   "cell_type": "markdown",
   "metadata": {},
   "source": [
    "### 토픽 모델링을 추가하여 코드 완성하기"
   ]
  },
  {
   "cell_type": "code",
   "execution_count": 15,
   "metadata": {
    "scrolled": false
   },
   "outputs": [
    {
     "name": "stdout",
     "output_type": "stream",
     "text": [
      "Building document-term matrix.\n",
      "\n",
      "Printing topic words.\n",
      "\n",
      "Topic NO : 0\n",
      "\t교육\t0.01896747760474682\n",
      "\t데이터\t0.012410718016326427\n",
      "\t기업\t0.010856402106583118\n",
      "\t인텔\t0.00949882622808218\n",
      "\t기술\t0.008013228885829449\n",
      "\t프로그램\t0.007087402045726776\n",
      "\t프로세서\t0.0069261821918189526\n",
      "\t내용\t0.006854703184217215\n",
      "\t슈퍼컴퓨터\t0.0068323248997330666\n",
      "\t분석\t0.0066976118832826614\n",
      "\t지원\t0.006518838461488485\n",
      "\t과정\t0.006288677453994751\n",
      "\t개발자\t0.0062461975030601025\n",
      "\t학습\t0.005781793501228094\n",
      "\t파이썬\t0.0057164630852639675\n",
      "\t인공지능\t0.005590678658336401\n",
      "\t전공\t0.00547241885215044\n",
      "\t시스템\t0.005454821977764368\n",
      "\t기반\t0.005339246243238449\n",
      "\t플레이어\t0.005036835093051195\n",
      "\t시장\t0.005031670443713665\n",
      "\t활용\t0.00495681818574667\n",
      "\t센터\t0.004802829120308161\n",
      "\t취업\t0.0047770775854587555\n",
      "\t분야\t0.004742316901683807\n",
      "\t로봇\t0.004719397518783808\n",
      "\t본문\t0.004460582509636879\n",
      "\t올해\t0.00443461025133729\n",
      "\t코딩\t0.004377189092338085\n",
      "\t에픽\t0.004263618029654026\n",
      "\n",
      "\n",
      "Topic NO : 1\n",
      "\t교육\t0.021540027111768723\n",
      "\t개발자\t0.015676790848374367\n",
      "\t과정\t0.01189704891294241\n",
      "\t기업\t0.011338331736624241\n",
      "\t전공\t0.010427317582070827\n",
      "\t취업\t0.009502006694674492\n",
      "\t기술\t0.008972696959972382\n",
      "\t인공지능\t0.00834689475595951\n",
      "\t프로그램\t0.00771339563652873\n",
      "\t데이터\t0.0074607026763260365\n",
      "\t분야\t0.007245464250445366\n",
      "\t지원\t0.006556563079357147\n",
      "\t학습\t0.006169171538203955\n",
      "\t진행\t0.006011364981532097\n",
      "\t코딩\t0.0059644258581101894\n",
      "\t본문\t0.005659507121890783\n",
      "\t디지털\t0.005365048535168171\n",
      "\t아카데미\t0.005328524392098188\n",
      "\t내용\t0.005086472723633051\n",
      "\t산업\t0.004828596953302622\n",
      "\t플레이어\t0.004708696622401476\n",
      "\t파이썬\t0.004497604910284281\n",
      "\t필요\t0.004418075084686279\n",
      "\t사진\t0.004366052802652121\n",
      "\t제공\t0.004128158092498779\n",
      "\t직군\t0.003942475188523531\n",
      "\t활용\t0.003830036148428917\n",
      "\t정부\t0.0038186232559382915\n",
      "\t이노베이션\t0.0037907154764980078\n",
      "\t노력\t0.0036947119515389204\n",
      "\n",
      "\n",
      "Topic NO : 2\n",
      "\t교육\t0.02146982029080391\n",
      "\t프로그램\t0.01329787727445364\n",
      "\t인공지능\t0.009972859174013138\n",
      "\t기업\t0.008984274230897427\n",
      "\t기술\t0.008542345836758614\n",
      "\t프로세서\t0.006695391610264778\n",
      "\t제공\t0.005933191627264023\n",
      "\t디지털\t0.005843989085406065\n",
      "\t분야\t0.005684031639248133\n",
      "\t지원\t0.005449977237731218\n",
      "\t취업\t0.005228091962635517\n",
      "\t인텔\t0.005151511635631323\n",
      "\t데이터\t0.005026425234973431\n",
      "\t플레이어\t0.0049737864173948765\n",
      "\t산업\t0.004920095670968294\n",
      "\t시장\t0.004595529288053513\n",
      "\t본문\t0.004564404021948576\n",
      "\t내용\t0.00455413106828928\n",
      "\t시스템\t0.004486192017793655\n",
      "\t코딩\t0.004312897101044655\n",
      "\t진행\t0.0042001912370324135\n",
      "\t개발자\t0.004009241238236427\n",
      "\t확대\t0.003950759768486023\n",
      "\t과정\t0.003940647467970848\n",
      "\t슈퍼컴퓨터\t0.003936838824301958\n",
      "\t활용\t0.003892762353643775\n",
      "\t정보\t0.0038836710155010223\n",
      "\t사람\t0.0037862900644540787\n",
      "\t로봇\t0.0036840459797531366\n",
      "\t사업\t0.0035703598987311125\n",
      "\n",
      "\n"
     ]
    }
   ],
   "source": [
    "# 토픽 개수, 키워드 개수를 정해주는 변수를 추가.\n",
    "NUM_TOPICS = 3\n",
    "NUM_TOPIC_WORDS = 30\n",
    "\n",
    "def build_doc_term_mat(documents):\n",
    "    # 문서-단어 행렬 만들어주는 함수.\n",
    "    print(\"Building document-term matrix.\")\n",
    "\n",
    "    dictionary = corpora.Dictionary(documents)\n",
    "    corpus = [dictionary.doc2bow(document) for document in documents]\n",
    "    \n",
    "    \n",
    "    return corpus,dictionary\n",
    "\n",
    "\n",
    "def print_topic_words(model):\n",
    "\n",
    "    # 토픽 모델링 결과를 출력해 주는 함수.\n",
    "    print(\"\\nPrinting topic words.\\n\")\n",
    "\n",
    "    for topic_no in range(model.num_topics):\n",
    "        topic_word_probs = model.show_topic(topic_no,NUM_TOPIC_WORDS)\n",
    "    \n",
    "        print(\"Topic NO : {}\".format(topic_no))\n",
    "        \n",
    "        for topic_word, prob in topic_word_probs:\n",
    "            print(\"\\t{}\\t{}\".format(topic_word,prob))\n",
    "            \n",
    "        print(\"\\n\")    \n",
    "    \n",
    "\n",
    "# document-term matrix를 만들고,\n",
    "corpus, dictionary = build_doc_term_mat(tokenized_text)\n",
    "# LDA를 실행.\n",
    "model = models.ldamodel.LdaModel(corpus,num_topics=NUM_TOPICS,id2word=dictionary,alpha=\"auto\",eta=\"auto\")\n",
    "# 결과를 출력.\n",
    "print_topic_words(model)"
   ]
  },
  {
   "cell_type": "markdown",
   "metadata": {},
   "source": [
    "### pyLDAvis를 통한 토픽 모델링 결과 시각화하기"
   ]
  },
  {
   "cell_type": "code",
   "execution_count": 16,
   "metadata": {},
   "outputs": [
    {
     "name": "stdout",
     "output_type": "stream",
     "text": [
      "Collecting pyldavis\n",
      "  Using cached pyLDAvis-3.3.1.tar.gz (1.7 MB)\n",
      "  Installing build dependencies: started\n",
      "  Installing build dependencies: finished with status 'done'\n",
      "  Getting requirements to build wheel: started\n",
      "  Getting requirements to build wheel: finished with status 'done'\n",
      "  Installing backend dependencies: started\n",
      "  Installing backend dependencies: finished with status 'done'\n",
      "    Preparing wheel metadata: started\n",
      "    Preparing wheel metadata: finished with status 'done'\n",
      "  Downloading pyLDAvis-3.3.0.tar.gz (1.7 MB)\n",
      "  Installing build dependencies: started\n",
      "  Installing build dependencies: finished with status 'done'\n",
      "  Getting requirements to build wheel: started\n",
      "  Getting requirements to build wheel: finished with status 'done'\n",
      "  Installing backend dependencies: started\n",
      "  Installing backend dependencies: finished with status 'done'\n",
      "    Preparing wheel metadata: started\n",
      "    Preparing wheel metadata: finished with status 'done'\n",
      "  Downloading pyLDAvis-3.2.2.tar.gz (1.7 MB)\n",
      "Requirement already satisfied: wheel>=0.23.0 in d:\\anaconda\\envs\\textmining\\lib\\site-packages (from pyldavis) (0.36.2)\n",
      "Requirement already satisfied: numpy>=1.9.2 in d:\\anaconda\\envs\\textmining\\lib\\site-packages (from pyldavis) (1.17.0)\n",
      "Requirement already satisfied: scipy>=0.18.0 in d:\\anaconda\\envs\\textmining\\lib\\site-packages (from pyldavis) (1.5.0)\n",
      "Requirement already satisfied: joblib>=0.8.4 in d:\\anaconda\\envs\\textmining\\lib\\site-packages (from pyldavis) (1.0.1)\n",
      "Requirement already satisfied: jinja2>=2.7.2 in d:\\anaconda\\envs\\textmining\\lib\\site-packages (from pyldavis) (3.0.1)\n",
      "Requirement already satisfied: numexpr in d:\\anaconda\\envs\\textmining\\lib\\site-packages (from pyldavis) (2.7.3)\n",
      "Requirement already satisfied: future in d:\\anaconda\\envs\\textmining\\lib\\site-packages (from pyldavis) (0.18.2)\n",
      "Collecting funcy\n",
      "  Downloading funcy-1.16-py2.py3-none-any.whl (32 kB)\n",
      "Requirement already satisfied: pandas>=0.17.0 in d:\\anaconda\\envs\\textmining\\lib\\site-packages (from pyldavis) (1.0.5)\n",
      "Requirement already satisfied: MarkupSafe>=2.0 in d:\\anaconda\\envs\\textmining\\lib\\site-packages (from jinja2>=2.7.2->pyldavis) (2.0.1)\n",
      "Requirement already satisfied: python-dateutil>=2.6.1 in d:\\anaconda\\envs\\textmining\\lib\\site-packages (from pandas>=0.17.0->pyldavis) (2.8.1)\n",
      "Requirement already satisfied: pytz>=2017.2 in d:\\anaconda\\envs\\textmining\\lib\\site-packages (from pandas>=0.17.0->pyldavis) (2021.1)\n",
      "Requirement already satisfied: six>=1.5 in d:\\anaconda\\envs\\textmining\\lib\\site-packages (from python-dateutil>=2.6.1->pandas>=0.17.0->pyldavis) (1.16.0)\n",
      "Building wheels for collected packages: pyldavis\n",
      "  Building wheel for pyldavis (setup.py): started\n",
      "  Building wheel for pyldavis (setup.py): finished with status 'done'\n",
      "  Created wheel for pyldavis: filename=pyLDAvis-3.2.2-py2.py3-none-any.whl size=135593 sha256=5baa08838ee6b746aece016f3e5883727a63f4704a3bc9b9f4fb5baa29e3bc18\n",
      "  Stored in directory: c:\\users\\son-family\\appdata\\local\\pip\\cache\\wheels\\eb\\d1\\ac\\e8728b60e7d714da9ff6a52cb8659099c3be9e0dc19f522881\n",
      "Successfully built pyldavis\n",
      "Installing collected packages: funcy, pyldavis\n",
      "Successfully installed funcy-1.16 pyldavis-3.2.2\n"
     ]
    }
   ],
   "source": [
    "!pip install pyldavis"
   ]
  },
  {
   "cell_type": "code",
   "execution_count": 19,
   "metadata": {},
   "outputs": [
    {
     "data": {
      "text/html": [
       "\n",
       "<link rel=\"stylesheet\" type=\"text/css\" href=\"https://cdn.jsdelivr.net/gh/bmabey/pyLDAvis@3.2.2/pyLDAvis/js/ldavis.v1.0.0.css\">\n",
       "\n",
       "\n",
       "<div id=\"ldavis_el9508830070248360648016892194\"></div>\n",
       "<script type=\"text/javascript\">\n",
       "\n",
       "var ldavis_el9508830070248360648016892194_data = {\"mdsDat\": {\"x\": [-0.005975035760011558, 0.01815373356321134, -0.012178697803199799], \"y\": [0.009925728279288346, -0.00203003389452676, -0.007895694384761589], \"topics\": [1, 2, 3], \"cluster\": [1, 1, 1], \"Freq\": [36.851317690027535, 35.64905743826868, 27.499624871703787]}, \"tinfo\": {\"Term\": [\"\\uac1c\\ubc1c\\uc790\", \"\\ud504\\ub85c\\uadf8\\ub7a8\", \"\\uc778\\ud154\", \"\\uacfc\\uc815\", \"\\ubd84\\uc11d\", \"\\uc804\\uacf5\", \"\\uc778\\uacf5\\uc9c0\\ub2a5\", \"\\ud504\\ub85c\\uc138\\uc11c\", \"\\ud655\\ub300\", \"\\uc2dc\\uc2a4\\ud15c\", \"\\ub85c\\ubd07\", \"\\ub370\\uc774\\ud130\", \"\\uc0ac\\ub78c\", \"\\ucde8\\uc5c5\", \"\\uad50\\uc721\", \"\\uc9c0\\ub2c8\", \"\\uc2dc\\uc7a5\", \"\\uc288\\ud37c\\ucef4\\ud4e8\\ud130\", \"\\uc0ac\\uc9c4\", \"\\ud0d1\\uc7ac\", \"\\uc81c\\uacf5\", \"\\uccad\\ub144\", \"\\uc2a4\\ud14c\\uc774\", \"\\uae30\\ubc18\", \"\\ud14c\\ud06c\", \"\\uc218\\ucd9c\", \"\\ub514\\uc9c0\\ud138\", \"\\uc720\\uce58\", \"\\uc815\\ubcf4\", \"\\uacc4\\ud68d\", \"\\uc0ac\\ub840\", \"\\ubd84\\uc11d\", \"\\ucc44\\uc9c4\\uc11d\", \"\\uc778\\ud154\", \"\\uc288\\ud37c\\ucef4\\ud4e8\\ud130\", \"\\uae30\\ubc18\", \"\\ucd9c\\uac04\", \"\\uba54\\ubaa8\\ub9ac\", \"\\ub85c\\ubd07\", \"\\uc5d0\\ud53d\", \"\\ub370\\uc774\\ud130\", \"\\uc9c0\\uc740\", \"\\ub300\\ube44\", \"\\ud638\\uae30\", \"\\uc6b4\\uc6a9\", \"\\uae30\\ub85d\", \"\\ud398\\uc774\\ud37c\", \"\\uc2dc\\uc2a4\\ud15c\", \"\\ub77c\\uc774\\ube0c\\ub7ec\\ub9ac\", \"\\uad6d\\uc81c\", \"\\uc790\\uc5f0\", \"\\uc81c\\uc628\", \"\\uc21c\\uc704\", \"\\uc11c\\uc801\", \"\\uad6c\\ubcc4\", \"\\uae30\\uc0c1\\uccad\", \"\\uc5b4\\ub824\\uc6c0\", \"\\uc815\\ud615\", \"\\uc81c\\uc2dc\", \"\\uae30\\ub2a5\", \"\\uc62c\\ud574\", \"\\uac00\\ub2a5\", \"\\uad50\\uc218\", \"\\uc13c\\ud130\", \"\\uc801\\uc6a9\", \"\\ubc84\\ud074\\ub9ac\", \"\\ucd9c\\uc2dc\", \"\\uc2dc\\uc7a5\", \"\\ud504\\ub85c\\uc138\\uc11c\", \"\\ub85c\\ub4dc\", \"\\ub0b4\\uc6a9\", \"\\ud30c\\uc774\\uc36c\", \"\\uc0ac\\uc5c5\", \"\\uacfc\\ud559\", \"\\ud0d1\\uc7ac\", \"\\uc544\\uc2dc\\uc544\", \"\\uae30\\uc5c5\", \"\\uad50\\uc721\", \"\\ud65c\\uc6a9\", \"\\ud559\\uc2b5\", \"\\uc9c0\\uc6d0\", \"\\uae30\\uc220\", \"\\ud50c\\ub808\\uc774\\uc5b4\", \"\\uc124\\uba85\", \"\\ud504\\ub85c\\uadf8\\ub7a8\", \"\\uacfc\\uc815\", \"\\uc804\\uacf5\", \"\\uac1c\\ubc1c\\uc790\", \"\\uc778\\uacf5\\uc9c0\\ub2a5\", \"\\ubcf8\\ubb38\", \"\\ubd84\\uc57c\", \"\\ucde8\\uc5c5\", \"\\ucf54\\ub529\", \"\\uac1c\\ubc1c\\uc790\", \"\\uc2a4\\ud14c\\uc774\", \"\\uce74\\ub77c\", \"\\uc0ac\\uc9c4\", \"\\uc720\\ud589\\uc5b4\", \"\\ub2f9\\ud1a0\", \"\\ub124\\uc774\\ubc84\", \"\\uc5f4\\ud48d\", \"\\ucfe0\\ud321\", \"\\uc804\\uacf5\", \"\\uc900\\ube44\", \"\\uacfc\\uc815\", \"\\ub2e8\\uae30\\uac04\", \"\\uc9c4\\ub85c\", \"\\uad50\\uc721\\ube44\", \"\\ub3d9\\ub8cc\", \"\\uc790\\uae30\", \"\\uc5f0\\ubd09\", \"\\ubbfc\\uc871\", \"\\ub2e8\\uc5b4\", \"\\uce74\\uce74\\uc624\", \"\\ubd84\\uc704\\uae30\", \"\\uc5ec\\uae30\", \"\\uc5d4\\ub4dc\", \"\\ucde8\\uc5c5\", \"\\uad00\\ub828\", \"\\uc5ec\\ub3c4\", \"\\uc7a5\\ud559\\uc0dd\", \"\\uc790\\uc2e0\", \"\\uacfc\\uc81c\", \"\\uc774\\ub178\\ubca0\\uc774\\uc158\", \"\\ucee4\\ub9ac\\uc5b4\", \"\\uc218\\ud589\", \"\\uc544\\uce74\\ub370\\ubbf8\", \"\\ud544\\uc694\", \"\\uc774\\uc218\", \"\\uc9c4\\ud589\", \"\\uc120\\ubc1c\", \"\\uc5ed\\ub7c9\", \"\\ubc29\\uc2dd\", \"\\uc9c1\\uad70\", \"\\ucf54\\ub4dc\", \"\\ubd84\\uc57c\", \"\\uad50\\uc721\", \"\\ucf54\\ub529\", \"\\uae30\\uc5c5\", \"\\ud559\\uc2b5\", \"\\uae30\\uc220\", \"\\uc778\\uacf5\\uc9c0\\ub2a5\", \"\\ubcf8\\ubb38\", \"\\uc9c0\\uc6d0\", \"\\ub514\\uc9c0\\ud138\", \"\\uc0b0\\uc5c5\", \"\\ub178\\ub825\", \"\\ud504\\ub85c\\uadf8\\ub7a8\", \"\\ub370\\uc774\\ud130\", \"\\ud604\\uc7a5\", \"\\uc815\\ubd80\", \"\\ub0b4\\uc6a9\", \"\\ud50c\\ub808\\uc774\\uc5b4\", \"\\ud30c\\uc774\\uc36c\", \"\\uc81c\\uacf5\", \"\\ud65c\\uc6a9\", \"\\ud655\\ub300\", \"\\ubcf4\\ud3b8\", \"\\uc77c\\ubd80\", \"\\uc5f0\\uac04\", \"\\uc778\\uc6d0\", \"\\ub204\\uad6c\", \"\\uc218\\ucd9c\", \"\\uc720\\uce58\", \"\\ub9c8\\ub828\", \"\\ucd09\\uc9c4\", \"\\ub300\\ub2f5\", \"\\uc2dc\\ub9ac\\uc988\", \"\\ubc1c\\uc8fc\\uc790\", \"\\ud504\\ub85c\\uadf8\\ub7a8\", \"\\ub3d9\\ub825\", \"\\ud611\\uc5c5\", \"\\uc0ac\\ub78c\", \"\\ud655\\ucda9\", \"\\uc218\\uc900\", \"\\uc5f0\\uacb0\", \"\\uae30\\ud68c\", \"\\uccad\\ub144\", \"\\uad6c\\uc9c1\\uc790\", \"\\uacc4\\ud68d\", \"\\uacc4\\uc5f4\\uc0ac\", \"\\uc774\\uc81c\", \"\\ud30c\\ud2b8\\ub108\", \"\\uae30\\uc874\", \"\\uc2e4\\uc2dc\", \"\\ubd80\\ud68c\\uc7a5\", \"\\uc9c0\\ub2c8\", \"\\ud14c\\ud06c\", \"\\uc601\\uc5b4\", \"\\uc778\\uacf5\\uc9c0\\ub2a5\", \"\\uc81c\\uacf5\", \"\\uc815\\ubcf4\", \"\\uc778\\uc7ac\", \"\\uc6cc\\ud06c\", \"\\uc2dc\\uac04\", \"\\ud504\\ub85c\\uc138\\uc11c\", \"\\uad50\\uc721\", \"\\ub514\\uc9c0\\ud138\", \"\\ud558\\uc774\\ub2c9\\uc2a4\", \"\\uc0b0\\uc5c5\", \"\\uc2dc\\uc7a5\", \"\\uae30\\uc220\", \"\\uc2dc\\uc2a4\\ud15c\", \"\\ud0d1\\uc7ac\", \"\\uc77c\\uc790\\ub9ac\", \"\\uae30\\uc5c5\", \"\\ubd84\\uc57c\", \"\\ud50c\\ub808\\uc774\\uc5b4\", \"\\ub85c\\ubd07\", \"\\uc9c0\\uc6d0\", \"\\uc778\\ud154\", \"\\ubcf8\\ubb38\", \"\\ucde8\\uc5c5\", \"\\uc0ac\\uc5c5\", \"\\uc9c4\\ud589\", \"\\ucf54\\ub529\", \"\\ub0b4\\uc6a9\", \"\\ub370\\uc774\\ud130\", \"\\ud65c\\uc6a9\", \"\\uc288\\ud37c\\ucef4\\ud4e8\\ud130\", \"\\uacfc\\uc815\", \"\\uac1c\\ubc1c\\uc790\"], \"Freq\": [19.0, 20.0, 13.0, 16.0, 8.0, 14.0, 17.0, 12.0, 4.0, 8.0, 7.0, 19.0, 5.0, 14.0, 45.0, 5.0, 8.0, 10.0, 5.0, 5.0, 10.0, 5.0, 4.0, 8.0, 4.0, 3.0, 10.0, 3.0, 6.0, 5.0, 1.8740754547903562, 5.479311242398854, 1.7886016231470216, 7.770982590232489, 5.589519859798223, 4.3680333343193825, 1.2069305337810785, 1.5689682076818998, 3.860935559220137, 3.488062702093694, 10.153199071274026, 0.7775504456349228, 1.885533502954234, 1.511426439905029, 0.7631272175035104, 1.1346006761635505, 0.758019058334797, 4.462585755775311, 1.1132583138174084, 1.1215003217312793, 0.748527320494351, 2.578629986852752, 2.962151358201913, 0.746096575786912, 0.7419112853111199, 1.0962047670522397, 0.7389650103420934, 0.7391738700989124, 0.7370680342197399, 1.092872153914706, 3.62795130999742, 2.55100583160179, 1.4802201445840821, 3.9291908896528804, 2.1554587859370677, 1.4384620981562068, 1.7798729424755835, 4.116405804149635, 5.666304439835018, 2.115315235905725, 5.607827517497178, 4.676634148960733, 3.3822922354776206, 2.1244814458625383, 2.7276598520200452, 2.431371572427288, 8.881614394987627, 15.517279157223987, 4.055169228226028, 4.730080913106072, 5.333056840539002, 6.555616522305958, 4.120630999886762, 2.6357388920693205, 5.798198281014432, 5.144762293482603, 4.476981745470585, 5.110009477585082, 4.573730003932084, 3.649199194970665, 3.879685889125975, 3.908123578368158, 3.5809751030241213, 12.406754468614743, 2.698607549420819, 2.1717620591182434, 3.4553337888748596, 1.2793563157498042, 2.0852650878261354, 1.2455366334751958, 1.660333592862611, 1.2364353598671418, 8.252273712029366, 2.0493396333230947, 9.41543241799915, 1.2192237859660944, 1.9945598888342606, 1.5905259904929563, 1.5646331734174137, 1.160767231970248, 1.1561028580374146, 1.155558541344836, 1.1522778079145664, 1.1508609077088847, 0.7608748576581914, 1.1428499258645368, 0.7586676940079272, 7.519974283013712, 1.1335020145134171, 0.7511939346812548, 0.7511635771405973, 1.129315529999068, 1.4999584369206331, 3.0000066105471856, 1.1238951197122569, 2.1748812849042864, 4.217042534546682, 3.496504694727811, 2.5158297261914275, 4.7574487705072235, 2.1664609599548057, 2.1598504787949344, 2.4754612912918206, 3.120110623131087, 2.4812906761551985, 5.73412612541954, 17.0469728280346, 4.720300722485137, 8.973258576999283, 4.882338310790164, 7.101073758039389, 6.605808217649102, 4.478985268975291, 5.188923490167251, 4.245948072652577, 3.8213954250553153, 2.924028550125946, 6.104451268584723, 5.904467767911347, 2.849381614886558, 3.022093080324625, 4.025480648672768, 3.726505215663357, 3.5594453200553775, 3.2670617575132344, 3.03112534695862, 2.4119059222287147, 0.9479178444831942, 0.9293962106468164, 0.9235838450721797, 1.2288594367743215, 1.2226448827645962, 1.511253996085586, 1.5100971091185642, 1.188152125141325, 0.5902149043455833, 0.5852646249553657, 1.4562126715690837, 0.5812684326206083, 8.118243282510749, 0.8686494107140753, 0.8684487784553272, 2.3114985382247353, 0.8636871914657388, 0.8636967149240004, 1.1497672580536247, 0.5735774582980122, 2.004807931194334, 0.8578137051888268, 1.9942394510650803, 0.5697407128185512, 0.8513710146043292, 0.8502382916358815, 1.7004372101682041, 0.5669545327123864, 0.5655002153511525, 1.9722060064594777, 1.6783407970251412, 1.1106373580334212, 6.088347435149892, 3.6221640550419485, 2.370948797492814, 2.0892494506346395, 1.3575757979547367, 1.841058320599015, 4.087480794264143, 13.107146408049026, 3.5677066464439284, 1.9989124841069534, 3.0036774145059675, 2.8055323419169294, 5.215030961323002, 2.738782849385489, 1.9843786918117081, 1.764577701559494, 5.484824563942604, 3.4700539582773833, 3.036455167865742, 2.249079376378922, 3.32716569621566, 3.144954932850982, 2.7865306262853533, 3.1917065844449257, 2.179674971110041, 2.564181755595264, 2.632987746546519, 2.780259073667227, 3.0685907274281203, 2.3764989836829225, 2.403407301789075, 2.405732447016565, 2.4476083722629505], \"Total\": [19.0, 20.0, 13.0, 16.0, 8.0, 14.0, 17.0, 12.0, 4.0, 8.0, 7.0, 19.0, 5.0, 14.0, 45.0, 5.0, 8.0, 10.0, 5.0, 5.0, 10.0, 5.0, 4.0, 8.0, 4.0, 3.0, 10.0, 3.0, 6.0, 5.0, 2.961599953027846, 8.90837728655238, 2.9629723465257785, 13.115196235598248, 10.20638527976562, 8.011482916627864, 2.2163976562415226, 2.9044974825988725, 7.225654186234593, 6.544428615395256, 19.126257566613493, 1.4699403620600233, 3.616173797693908, 2.9000155925034683, 1.4693259680274828, 2.1982348362172575, 1.4703766292680982, 8.666656795875564, 2.1762749533255623, 2.1986443572238237, 1.4687016681671652, 5.062322783009025, 5.815878922838047, 1.4687667783628489, 1.4695270688586073, 2.1746181468602845, 1.4696157605890197, 1.470574567245954, 1.4691088629985483, 2.1798728379318866, 7.261519593884213, 5.1136731182102295, 2.959103824959928, 8.021683565723771, 4.377742517220954, 2.8906767456444054, 3.6098474133591614, 8.65903273828974, 12.253363587569307, 4.33847070617259, 12.413567239837175, 10.255676762325901, 7.235478091134896, 4.38045811184973, 5.758864390037648, 5.1329902738378665, 23.339697535929517, 45.67139839330761, 9.46279355886757, 11.744055597276517, 13.849146026921913, 18.87172124166835, 10.883591383415862, 5.858746211522731, 20.020892832109904, 16.965927158498317, 14.76055423818978, 19.964372318462775, 17.267885656731078, 10.91471509023131, 13.083865972822899, 14.619804445826796, 10.934263572055777, 19.964372318462775, 4.433598145077468, 3.686231995956661, 5.910257230735109, 2.204288787198824, 3.6795704345625557, 2.206758735171941, 2.9434315372150417, 2.2058401494536795, 14.76055423818978, 3.6705642776809446, 16.965927158498317, 2.2039805672346793, 3.6752698513112785, 2.9480302744036337, 2.9479144111956526, 2.199237752691596, 2.2056216924101495, 2.209922932843853, 2.2051152779379533, 2.209244556496813, 1.4632586483290275, 2.2041927963329817, 1.4651158796835038, 14.619804445826796, 2.206335120815038, 1.463128770341024, 1.463983690422689, 2.204506884435647, 2.929009226236298, 5.9105613478353, 2.200711826090721, 4.374735217986923, 8.753431594308692, 7.2621110243784095, 5.137635802405342, 10.193097892215766, 4.397200976807961, 4.385524303187644, 5.099289797333514, 6.611464196263471, 5.144117287453445, 13.083865972822899, 45.67139839330761, 10.934263572055777, 23.339697535929517, 11.744055597276517, 18.87172124166835, 17.267885656731078, 10.91471509023131, 13.849146026921913, 10.82164703196835, 9.389572744808609, 6.569279553908951, 20.020892832109904, 19.126257566613493, 6.508701089912298, 7.255346615561384, 12.413567239837175, 10.883591383415862, 10.255676762325901, 10.063054105691357, 9.46279355886757, 4.958465986203301, 2.1358868117471745, 2.1381211351773906, 2.138836591609523, 2.8521320537651516, 2.8532610560130864, 3.566916020543435, 3.5672059236016818, 2.8562687020747157, 1.4289610198403984, 1.4296409033775972, 3.573623333802771, 1.430143395339195, 20.020892832109904, 2.1455433145207046, 2.1455793549212565, 5.722558900503533, 2.1460571511981543, 2.1462314089279855, 2.860908851471428, 1.430965312958075, 5.00906207642417, 2.146739036912689, 5.009219269679592, 1.4314533309375481, 2.1476958258282286, 2.1471976824149746, 4.294376698041004, 1.4318285035550735, 1.4319614652066175, 5.010637672472017, 4.29644986591314, 2.8666605010353523, 17.267885656731078, 10.063054105691357, 6.464869057273308, 5.748562762221054, 3.585441116643962, 5.028717454258224, 12.253363587569307, 45.67139839330761, 10.82164703196835, 5.759283820429389, 9.389572744808609, 8.65903273828974, 18.87172124166835, 8.666656795875564, 5.758864390037648, 5.037889787984202, 23.339697535929517, 13.083865972822899, 10.883591383415862, 7.225654186234593, 13.849146026921913, 13.115196235598248, 10.91471509023131, 14.619804445826796, 7.235478091134896, 10.193097892215766, 10.934263572055777, 12.413567239837175, 19.126257566613493, 9.46279355886757, 10.20638527976562, 16.965927158498317, 19.964372318462775], \"Category\": [\"Default\", \"Default\", \"Default\", \"Default\", \"Default\", \"Default\", \"Default\", \"Default\", \"Default\", \"Default\", \"Default\", \"Default\", \"Default\", \"Default\", \"Default\", \"Default\", \"Default\", \"Default\", \"Default\", \"Default\", \"Default\", \"Default\", \"Default\", \"Default\", \"Default\", \"Default\", \"Default\", \"Default\", \"Default\", \"Default\", \"Topic1\", \"Topic1\", \"Topic1\", \"Topic1\", \"Topic1\", \"Topic1\", \"Topic1\", \"Topic1\", \"Topic1\", \"Topic1\", \"Topic1\", \"Topic1\", \"Topic1\", \"Topic1\", \"Topic1\", \"Topic1\", \"Topic1\", \"Topic1\", \"Topic1\", \"Topic1\", \"Topic1\", \"Topic1\", \"Topic1\", \"Topic1\", \"Topic1\", \"Topic1\", \"Topic1\", \"Topic1\", \"Topic1\", \"Topic1\", \"Topic1\", \"Topic1\", \"Topic1\", \"Topic1\", \"Topic1\", \"Topic1\", \"Topic1\", \"Topic1\", \"Topic1\", \"Topic1\", \"Topic1\", \"Topic1\", \"Topic1\", \"Topic1\", \"Topic1\", \"Topic1\", \"Topic1\", \"Topic1\", \"Topic1\", \"Topic1\", \"Topic1\", \"Topic1\", \"Topic1\", \"Topic1\", \"Topic1\", \"Topic1\", \"Topic1\", \"Topic1\", \"Topic1\", \"Topic1\", \"Topic1\", \"Topic1\", \"Topic1\", \"Topic2\", \"Topic2\", \"Topic2\", \"Topic2\", \"Topic2\", \"Topic2\", \"Topic2\", \"Topic2\", \"Topic2\", \"Topic2\", \"Topic2\", \"Topic2\", \"Topic2\", \"Topic2\", \"Topic2\", \"Topic2\", \"Topic2\", \"Topic2\", \"Topic2\", \"Topic2\", \"Topic2\", \"Topic2\", \"Topic2\", \"Topic2\", \"Topic2\", \"Topic2\", \"Topic2\", \"Topic2\", \"Topic2\", \"Topic2\", \"Topic2\", \"Topic2\", \"Topic2\", \"Topic2\", \"Topic2\", \"Topic2\", \"Topic2\", \"Topic2\", \"Topic2\", \"Topic2\", \"Topic2\", \"Topic2\", \"Topic2\", \"Topic2\", \"Topic2\", \"Topic2\", \"Topic2\", \"Topic2\", \"Topic2\", \"Topic2\", \"Topic2\", \"Topic2\", \"Topic2\", \"Topic2\", \"Topic2\", \"Topic2\", \"Topic2\", \"Topic2\", \"Topic2\", \"Topic2\", \"Topic2\", \"Topic2\", \"Topic2\", \"Topic3\", \"Topic3\", \"Topic3\", \"Topic3\", \"Topic3\", \"Topic3\", \"Topic3\", \"Topic3\", \"Topic3\", \"Topic3\", \"Topic3\", \"Topic3\", \"Topic3\", \"Topic3\", \"Topic3\", \"Topic3\", \"Topic3\", \"Topic3\", \"Topic3\", \"Topic3\", \"Topic3\", \"Topic3\", \"Topic3\", \"Topic3\", \"Topic3\", \"Topic3\", \"Topic3\", \"Topic3\", \"Topic3\", \"Topic3\", \"Topic3\", \"Topic3\", \"Topic3\", \"Topic3\", \"Topic3\", \"Topic3\", \"Topic3\", \"Topic3\", \"Topic3\", \"Topic3\", \"Topic3\", \"Topic3\", \"Topic3\", \"Topic3\", \"Topic3\", \"Topic3\", \"Topic3\", \"Topic3\", \"Topic3\", \"Topic3\", \"Topic3\", \"Topic3\", \"Topic3\", \"Topic3\", \"Topic3\", \"Topic3\", \"Topic3\", \"Topic3\", \"Topic3\", \"Topic3\", \"Topic3\", \"Topic3\", \"Topic3\", \"Topic3\", \"Topic3\", \"Topic3\"], \"logprob\": [30.0, 29.0, 28.0, 27.0, 26.0, 25.0, 24.0, 23.0, 22.0, 21.0, 20.0, 19.0, 18.0, 17.0, 16.0, 15.0, 14.0, 13.0, 12.0, 11.0, 10.0, 9.0, 8.0, 7.0, 6.0, 5.0, 4.0, 3.0, 2.0, 1.0, -6.0789, -5.006, -6.1255, -4.6566, -4.9861, -5.2327, -6.5189, -6.2566, -5.3561, -5.4576, -4.3892, -6.9586, -6.0728, -6.2939, -6.9773, -6.5807, -6.984, -5.2113, -6.5997, -6.5923, -6.9966, -5.7597, -5.6211, -6.9999, -7.0055, -6.6151, -7.0095, -7.0092, -7.0121, -6.6182, -5.4183, -5.7705, -6.3148, -5.3386, -5.939, -6.3434, -6.1304, -5.292, -4.9724, -5.9578, -4.9828, -5.1644, -5.4884, -5.9535, -5.7035, -5.8185, -4.523, -3.965, -5.307, -5.153, -5.0331, -4.8267, -5.291, -5.7378, -4.9494, -5.069, -5.208, -5.0758, -5.1867, -5.4125, -5.3512, -5.3439, -5.4313, -4.1556, -5.6811, -5.8983, -5.4339, -6.4275, -5.9389, -6.4542, -6.1668, -6.4616, -4.5633, -5.9563, -4.4315, -6.4756, -5.9834, -6.2098, -6.2262, -6.5247, -6.5288, -6.5292, -6.5321, -6.5333, -6.9471, -6.5403, -6.95, -4.6563, -6.5485, -6.9599, -6.9599, -6.5522, -6.2684, -5.5752, -6.557, -5.8968, -5.2347, -5.4221, -5.7512, -5.1141, -5.9007, -5.9038, -5.7674, -5.5359, -5.765, -4.9274, -3.8378, -5.1219, -4.4796, -5.0882, -4.7136, -4.7859, -5.1744, -5.0273, -5.2278, -5.3332, -5.6009, -4.8648, -4.8981, -5.6267, -5.5679, -5.2812, -5.3583, -5.4042, -5.4899, -5.5649, -5.5338, -6.4678, -6.4875, -6.4938, -6.2082, -6.2132, -6.0013, -6.0021, -6.2419, -6.9415, -6.95, -6.0384, -6.9568, -4.3202, -6.5551, -6.5553, -5.5764, -6.5608, -6.5608, -6.2747, -6.9701, -5.7187, -6.5676, -5.724, -6.9768, -6.5752, -6.5765, -5.8834, -6.9817, -6.9843, -5.7351, -5.8965, -6.3093, -4.6079, -5.1272, -5.551, -5.6775, -6.1086, -5.8039, -5.0063, -3.8411, -5.1423, -5.7217, -5.3144, -5.3827, -4.7627, -5.4068, -5.729, -5.8464, -4.7123, -5.1701, -5.3036, -5.6037, -5.2121, -5.2685, -5.3895, -5.2537, -5.6351, -5.4726, -5.4461, -5.3917, -5.293, -5.5486, -5.5374, -5.5364, -5.5192], \"loglift\": [30.0, 29.0, 28.0, 27.0, 26.0, 25.0, 24.0, 23.0, 22.0, 21.0, 20.0, 19.0, 18.0, 17.0, 16.0, 15.0, 14.0, 13.0, 12.0, 11.0, 10.0, 9.0, 8.0, 7.0, 6.0, 5.0, 4.0, 3.0, 2.0, 1.0, 0.5407, 0.5123, 0.4935, 0.4749, 0.3962, 0.3917, 0.3905, 0.3824, 0.3716, 0.369, 0.365, 0.3615, 0.3471, 0.3466, 0.3431, 0.3369, 0.3357, 0.3345, 0.328, 0.3251, 0.3243, 0.3237, 0.3236, 0.321, 0.3148, 0.3133, 0.3108, 0.3104, 0.3085, 0.3078, 0.3044, 0.3028, 0.3056, 0.2846, 0.2897, 0.3004, 0.2912, 0.2547, 0.227, 0.28, 0.2037, 0.213, 0.2378, 0.2747, 0.251, 0.251, 0.0321, -0.0812, 0.1509, 0.0889, 0.044, -0.0591, 0.027, 0.1995, -0.241, -0.1949, -0.1947, -0.3645, -0.3302, -0.0973, -0.2173, -0.321, -0.118, 0.5557, 0.535, 0.5024, 0.4947, 0.4874, 0.4635, 0.4595, 0.4589, 0.4526, 0.45, 0.4486, 0.4426, 0.4394, 0.4202, 0.4144, 0.398, 0.3924, 0.3855, 0.3831, 0.3824, 0.3793, 0.3775, 0.3746, 0.3733, 0.3666, 0.3654, 0.3648, 0.3642, 0.3626, 0.3622, 0.3533, 0.3595, 0.3326, 0.3011, 0.3005, 0.3175, 0.2694, 0.3236, 0.3232, 0.3088, 0.2805, 0.3024, 0.2065, 0.0459, 0.1914, 0.0755, 0.1537, 0.054, 0.0705, 0.1407, 0.0498, 0.0959, 0.1325, 0.222, -0.1563, -0.1439, 0.2054, 0.1557, -0.0947, -0.0403, -0.0268, -0.0935, -0.107, 0.5703, 0.4786, 0.4579, 0.4512, 0.449, 0.4436, 0.4322, 0.4314, 0.4139, 0.4068, 0.3979, 0.3933, 0.3907, 0.3883, 0.3868, 0.3865, 0.3845, 0.3808, 0.3808, 0.3794, 0.3768, 0.3753, 0.3737, 0.37, 0.3697, 0.3657, 0.3646, 0.3646, 0.3646, 0.3619, 0.3586, 0.351, 0.3428, 0.2485, 0.2692, 0.2879, 0.2789, 0.3198, 0.2862, 0.1931, 0.0427, 0.1814, 0.2328, 0.1512, 0.164, 0.0049, 0.139, 0.2256, 0.2419, -0.1572, -0.0362, 0.0144, 0.1239, -0.1351, -0.137, -0.0743, -0.2308, 0.0912, -0.0891, -0.1328, -0.2052, -0.5388, -0.0907, -0.1551, -0.6624, -0.8078]}, \"token.table\": {\"Topic\": [1, 2, 3, 1, 2, 3, 3, 1, 2, 3, 1, 2, 3, 1, 2, 3, 1, 2, 3, 1, 2, 1, 2, 1, 2, 3, 1, 2, 1, 1, 2, 3, 1, 2, 1, 2, 3, 1, 2, 1, 2, 3, 1, 3, 1, 2, 3, 1, 2, 3, 1, 2, 3, 3, 1, 2, 3, 1, 2, 1, 2, 3, 1, 2, 3, 1, 2, 1, 2, 1, 2, 3, 3, 1, 2, 3, 1, 2, 3, 1, 2, 3, 1, 2, 1, 2, 3, 1, 3, 1, 2, 3, 1, 2, 3, 1, 2, 3, 1, 2, 3, 1, 2, 3, 1, 2, 3, 1, 2, 3, 1, 2, 3, 1, 2, 3, 3, 1, 2, 3, 1, 2, 3, 2, 1, 2, 3, 1, 2, 1, 2, 3, 1, 2, 3, 1, 2, 3, 1, 1, 2, 3, 1, 2, 3, 1, 2, 3, 1, 2, 3, 1, 2, 3, 1, 2, 3, 1, 2, 3, 1, 2, 3, 1, 2, 3, 1, 2, 3, 1, 2, 3, 1, 2, 3, 1, 2, 3, 3, 1, 2, 3, 1, 2, 3, 1, 1, 2, 3, 2, 1, 2, 2, 1, 2, 3, 1, 2, 3, 1, 2, 3, 1, 2, 1, 2, 1, 2, 3, 1, 2, 3, 1, 1, 2, 3, 1, 2, 3, 1, 2, 1, 2, 3, 1, 2, 3, 1, 2, 3, 1, 2, 3, 1, 2, 3, 1, 2, 3, 1, 2, 3, 1, 2, 3, 1, 2, 3, 1, 2, 1, 2, 1, 2, 1, 2, 3, 1, 2, 3, 1, 2, 3, 1, 2, 3, 1, 1, 2, 3, 1, 1, 2, 3, 1, 2, 3, 1, 2, 3, 1, 2, 3, 1, 1, 2, 3, 1, 2, 3, 1, 2, 3, 1, 2, 1, 2, 3, 3, 1, 2, 1, 2, 3, 1, 2, 3, 1, 2, 3, 1, 2, 1, 2, 1, 2, 3, 1, 2, 3, 1, 2, 1, 2, 3, 1, 2, 3, 1, 2, 3, 1, 3, 1, 1, 2, 3, 1, 2, 3, 1, 2, 3, 1, 2, 3, 1, 2, 3, 1, 2, 3, 1, 2, 3, 1, 2, 3, 1, 2, 3, 1, 2, 3, 1, 2, 3, 1, 2, 3], \"Freq\": [0.5866624499944555, 0.19555414999815182, 0.19555414999815182, 0.2504461407672742, 0.601070737841458, 0.10017845630690966, 0.6985907108442282, 0.39926381584169046, 0.19963190792084523, 0.39926381584169046, 0.294708326476309, 0.5304749876573562, 0.11788333059052361, 0.3414123762542648, 0.3414123762542648, 0.3414123762542648, 0.45657325077250027, 0.22828662538625014, 0.22828662538625014, 0.45324030359929723, 0.45324030359929723, 0.33794015321971405, 0.33794015321971405, 0.35032866439107185, 0.3722242059155138, 0.2846420398177459, 0.33920954227727296, 0.6784190845545459, 0.6804910376892258, 0.4658228051035676, 0.4658228051035676, 0.4658228051035676, 0.4548257187272781, 0.4548257187272781, 0.458742355333319, 0.458742355333319, 0.458742355333319, 0.4549104506599527, 0.4549104506599527, 0.49928334636999405, 0.24964167318499703, 0.24964167318499703, 0.4598508485012878, 0.4598508485012878, 0.3709253602445204, 0.3709253602445204, 0.2649466858889431, 0.385609110235694, 0.385609110235694, 0.21422728346427442, 0.4657253288730711, 0.23286266443653555, 0.4657253288730711, 0.6988289589863024, 0.4833421275348649, 0.32222808502324324, 0.24167106376743244, 0.4531532985739306, 0.4531532985739306, 0.30444738781285846, 0.45667108171928766, 0.30444738781285846, 0.35047616757413647, 0.35047616757413647, 0.35047616757413647, 0.453724508675997, 0.453724508675997, 0.4534910306073067, 0.4534910306073067, 0.271770854175505, 0.54354170835101, 0.271770854175505, 0.699476349366789, 0.5530707626042288, 0.2765353813021144, 0.2765353813021144, 0.5228414374935455, 0.3137048624961273, 0.15685243124806364, 0.4660824105634014, 0.4660824105634014, 0.4660824105634014, 0.33922287438270887, 0.6784457487654177, 0.27722212627501763, 0.36962950170002357, 0.36962950170002357, 0.459500762287367, 0.459500762287367, 0.4609919336678904, 0.2304959668339452, 0.2304959668339452, 0.5535830939183745, 0.13839577347959361, 0.27679154695918723, 0.3501071167686805, 0.3501071167686805, 0.3501071167686805, 0.6885872726632386, 0.3442936363316193, 0.3442936363316193, 0.4525044675259982, 0.4525044675259982, 0.6992305829324369, 0.19610574016070106, 0.39221148032140213, 0.19610574016070106, 0.3459397532106533, 0.3459397532106533, 0.3459397532106533, 0.4681896037281072, 0.4681896037281072, 0.4681896037281072, 0.36647772909620036, 0.36647772909620036, 0.2748582968221503, 0.698342814592228, 0.5612694477531546, 0.3367616686518928, 0.11225388955063091, 0.3057200378166961, 0.45858005672504415, 0.22929002836252207, 0.6834061778086553, 0.17474699996744622, 0.34949399993489244, 0.34949399993489244, 0.6753106536064276, 0.3376553268032138, 0.41462360361172007, 0.2764157357411467, 0.2764157357411467, 0.3383947469493207, 0.507592120423981, 0.16919737347466035, 0.3195033556408269, 0.42600447418776916, 0.3195033556408269, 0.6808432861714393, 0.22741739694734742, 0.45483479389469483, 0.22741739694734742, 0.5120549502724199, 0.34136996684827986, 0.17068498342413993, 0.4986484404709989, 0.24932422023549944, 0.24932422023549944, 0.4659329818025014, 0.4659329818025014, 0.4659329818025014, 0.2803542315660254, 0.2803542315660254, 0.5607084631320508, 0.22858526291796002, 0.45717052583592005, 0.22858526291796002, 0.5158291704147191, 0.17194305680490635, 0.3438861136098127, 0.5878672846002718, 0.19595576153342392, 0.19595576153342392, 0.22555043720195508, 0.6766513116058652, 0.22555043720195508, 0.19885786169060238, 0.39771572338120476, 0.39771572338120476, 0.2798280363073066, 0.2798280363073066, 0.2798280363073066, 0.4615389872024917, 0.11538474680062293, 0.3461542404018688, 0.461945360514949, 0.2309726802574745, 0.34645902038621174, 0.698407663709103, 0.38963642892403677, 0.38963642892403677, 0.19481821446201839, 0.22848182206625803, 0.45696364413251606, 0.22848182206625803, 0.6804499698609666, 0.4584051834476022, 0.1528017278158674, 0.3056034556317348, 0.6825398685979851, 0.45368082214208116, 0.45368082214208116, 0.6834668419286987, 0.2280229069242973, 0.4560458138485946, 0.2280229069242973, 0.4675438992968964, 0.4675438992968964, 0.4675438992968964, 0.3495392729781231, 0.3495392729781231, 0.3495392729781231, 0.4533869082994327, 0.4533869082994327, 0.33973951401844404, 0.6794790280368881, 0.3488379595835746, 0.3488379595835746, 0.3488379595835746, 0.5508488888977005, 0.2754244444488502, 0.2754244444488502, 0.6805841738048528, 0.5578114198322232, 0.2789057099161116, 0.2789057099161116, 0.2803314474736954, 0.2803314474736954, 0.5606628949473909, 0.45366106555883023, 0.45366106555883023, 0.33837733546788845, 0.5075660032018326, 0.16918866773394423, 0.3892841137286607, 0.583926170592991, 0.19464205686433034, 0.4656152831206272, 0.4656152831206272, 0.4656152831206272, 0.28955484761685246, 0.4053767866635935, 0.34746581714022295, 0.3506149018170045, 0.3506149018170045, 0.3506149018170045, 0.34791304935275097, 0.34791304935275097, 0.34791304935275097, 0.6099794357850171, 0.15249485894625428, 0.22874228841938143, 0.4677003484730225, 0.4677003484730225, 0.4677003484730225, 0.19849580718996385, 0.3969916143799277, 0.3969916143799277, 0.4547029982438794, 0.4547029982438794, 0.45361618376437945, 0.45361618376437945, 0.680873469183111, 0.6830677189520292, 0.4568564716020862, 0.2284282358010431, 0.2284282358010431, 0.2709925342539547, 0.5419850685079094, 0.13549626712697735, 0.30936434787490363, 0.30936434787490363, 0.30936434787490363, 0.27565878047926307, 0.4134881707188946, 0.27565878047926307, 0.6800063201642121, 0.29812022955369893, 0.29812022955369893, 0.39749363940493193, 0.680684750590187, 0.5926133375116021, 0.19753777917053403, 0.39507555834106806, 0.27243767561313437, 0.5448753512262687, 0.27243767561313437, 0.3991507929195951, 0.19957539645979755, 0.3991507929195951, 0.3610330911581334, 0.3610330911581334, 0.21661985469488004, 0.6802997086212169, 0.30250485227316487, 0.4537572784097473, 0.15125242613658244, 0.2720888643437204, 0.5441777286874409, 0.2720888643437204, 0.29431680453996534, 0.49052800756660886, 0.29431680453996534, 0.674997862313866, 0.337498931156933, 0.1996381727243181, 0.3992763454486362, 0.3992763454486362, 0.6998091523250163, 0.45118257420275365, 0.45118257420275365, 0.5540400385341745, 0.27702001926708725, 0.27702001926708725, 0.2736014708556375, 0.547202941711275, 0.20520110314172815, 0.27127972441693193, 0.5425594488338639, 0.27127972441693193, 0.4526434147180584, 0.4526434147180584, 0.45439843060977697, 0.45439843060977697, 0.3887936235198254, 0.3887936235198254, 0.1943968117599127, 0.36582253332749604, 0.45727816665937004, 0.274366899995622, 0.45334200678488423, 0.45334200678488423, 0.5209360382213112, 0.17364534607377038, 0.34729069214754077, 0.4655006022221867, 0.23275030111109335, 0.4655006022221867, 0.48753486638418997, 0.390027893107352, 0.195013946553676, 0.4657233044678448, 0.4657233044678448, 0.680097860707814, 0.29968693455953577, 0.29968693455953577, 0.39958257941271436, 0.4896614678182594, 0.16322048927275315, 0.3264409785455063, 0.36752574210890515, 0.36752574210890515, 0.2756443065816788, 0.27540201372385203, 0.4131030205857781, 0.27540201372385203, 0.347265400066859, 0.347265400066859, 0.347265400066859, 0.4257473032705597, 0.4257473032705597, 0.17029892130822388, 0.3072809724047335, 0.4609214586071003, 0.3072809724047335, 0.46607458153730247, 0.46607458153730247, 0.46607458153730247, 0.6896514643472932, 0.3448257321736466, 0.3448257321736466, 0.40335055349071797, 0.20167527674535898, 0.40335055349071797, 0.4659708151023355, 0.4659708151023355, 0.4659708151023355, 0.4227081543221035, 0.3170311157415776, 0.21135407716105176], \"Term\": [\"\\uac00\\ub2a5\", \"\\uac00\\ub2a5\", \"\\uac00\\ub2a5\", \"\\uac1c\\ubc1c\\uc790\", \"\\uac1c\\ubc1c\\uc790\", \"\\uac1c\\ubc1c\\uc790\", \"\\uacc4\\uc5f4\\uc0ac\", \"\\uacc4\\ud68d\", \"\\uacc4\\ud68d\", \"\\uacc4\\ud68d\", \"\\uacfc\\uc815\", \"\\uacfc\\uc815\", \"\\uacfc\\uc815\", \"\\uacfc\\uc81c\", \"\\uacfc\\uc81c\", \"\\uacfc\\uc81c\", \"\\uacfc\\ud559\", \"\\uacfc\\ud559\", \"\\uacfc\\ud559\", \"\\uad00\\ub828\", \"\\uad00\\ub828\", \"\\uad50\\uc218\", \"\\uad50\\uc218\", \"\\uad50\\uc721\", \"\\uad50\\uc721\", \"\\uad50\\uc721\", \"\\uad50\\uc721\\ube44\", \"\\uad50\\uc721\\ube44\", \"\\uad6c\\ubcc4\", \"\\uad6c\\uc9c1\\uc790\", \"\\uad6c\\uc9c1\\uc790\", \"\\uad6c\\uc9c1\\uc790\", \"\\uad6d\\uc81c\", \"\\uad6d\\uc81c\", \"\\uae30\\ub2a5\", \"\\uae30\\ub2a5\", \"\\uae30\\ub2a5\", \"\\uae30\\ub85d\", \"\\uae30\\ub85d\", \"\\uae30\\ubc18\", \"\\uae30\\ubc18\", \"\\uae30\\ubc18\", \"\\uae30\\uc0c1\\uccad\", \"\\uae30\\uc0c1\\uccad\", \"\\uae30\\uc220\", \"\\uae30\\uc220\", \"\\uae30\\uc220\", \"\\uae30\\uc5c5\", \"\\uae30\\uc5c5\", \"\\uae30\\uc5c5\", \"\\uae30\\uc874\", \"\\uae30\\uc874\", \"\\uae30\\uc874\", \"\\uae30\\ud68c\", \"\\ub0b4\\uc6a9\", \"\\ub0b4\\uc6a9\", \"\\ub0b4\\uc6a9\", \"\\ub124\\uc774\\ubc84\", \"\\ub124\\uc774\\ubc84\", \"\\ub178\\ub825\", \"\\ub178\\ub825\", \"\\ub178\\ub825\", \"\\ub204\\uad6c\", \"\\ub204\\uad6c\", \"\\ub204\\uad6c\", \"\\ub2e8\\uae30\\uac04\", \"\\ub2e8\\uae30\\uac04\", \"\\ub2e8\\uc5b4\", \"\\ub2e8\\uc5b4\", \"\\ub2f9\\ud1a0\", \"\\ub2f9\\ud1a0\", \"\\ub2f9\\ud1a0\", \"\\ub300\\ub2f5\", \"\\ub300\\ube44\", \"\\ub300\\ube44\", \"\\ub300\\ube44\", \"\\ub370\\uc774\\ud130\", \"\\ub370\\uc774\\ud130\", \"\\ub370\\uc774\\ud130\", \"\\ub3d9\\ub825\", \"\\ub3d9\\ub825\", \"\\ub3d9\\ub825\", \"\\ub3d9\\ub8cc\", \"\\ub3d9\\ub8cc\", \"\\ub514\\uc9c0\\ud138\", \"\\ub514\\uc9c0\\ud138\", \"\\ub514\\uc9c0\\ud138\", \"\\ub77c\\uc774\\ube0c\\ub7ec\\ub9ac\", \"\\ub77c\\uc774\\ube0c\\ub7ec\\ub9ac\", \"\\ub85c\\ub4dc\", \"\\ub85c\\ub4dc\", \"\\ub85c\\ub4dc\", \"\\ub85c\\ubd07\", \"\\ub85c\\ubd07\", \"\\ub85c\\ubd07\", \"\\ub9c8\\ub828\", \"\\ub9c8\\ub828\", \"\\ub9c8\\ub828\", \"\\uba54\\ubaa8\\ub9ac\", \"\\uba54\\ubaa8\\ub9ac\", \"\\uba54\\ubaa8\\ub9ac\", \"\\ubbfc\\uc871\", \"\\ubbfc\\uc871\", \"\\ubc1c\\uc8fc\\uc790\", \"\\ubc29\\uc2dd\", \"\\ubc29\\uc2dd\", \"\\ubc29\\uc2dd\", \"\\ubc84\\ud074\\ub9ac\", \"\\ubc84\\ud074\\ub9ac\", \"\\ubc84\\ud074\\ub9ac\", \"\\ubcf4\\ud3b8\", \"\\ubcf4\\ud3b8\", \"\\ubcf4\\ud3b8\", \"\\ubcf8\\ubb38\", \"\\ubcf8\\ubb38\", \"\\ubcf8\\ubb38\", \"\\ubd80\\ud68c\\uc7a5\", \"\\ubd84\\uc11d\", \"\\ubd84\\uc11d\", \"\\ubd84\\uc11d\", \"\\ubd84\\uc57c\", \"\\ubd84\\uc57c\", \"\\ubd84\\uc57c\", \"\\ubd84\\uc704\\uae30\", \"\\uc0ac\\ub78c\", \"\\uc0ac\\ub78c\", \"\\uc0ac\\ub78c\", \"\\uc0ac\\ub840\", \"\\uc0ac\\ub840\", \"\\uc0ac\\uc5c5\", \"\\uc0ac\\uc5c5\", \"\\uc0ac\\uc5c5\", \"\\uc0ac\\uc9c4\", \"\\uc0ac\\uc9c4\", \"\\uc0ac\\uc9c4\", \"\\uc0b0\\uc5c5\", \"\\uc0b0\\uc5c5\", \"\\uc0b0\\uc5c5\", \"\\uc11c\\uc801\", \"\\uc120\\ubc1c\", \"\\uc120\\ubc1c\", \"\\uc120\\ubc1c\", \"\\uc124\\uba85\", \"\\uc124\\uba85\", \"\\uc124\\uba85\", \"\\uc13c\\ud130\", \"\\uc13c\\ud130\", \"\\uc13c\\ud130\", \"\\uc218\\uc900\", \"\\uc218\\uc900\", \"\\uc218\\uc900\", \"\\uc218\\ucd9c\", \"\\uc218\\ucd9c\", \"\\uc218\\ucd9c\", \"\\uc218\\ud589\", \"\\uc218\\ud589\", \"\\uc218\\ud589\", \"\\uc21c\\uc704\", \"\\uc21c\\uc704\", \"\\uc21c\\uc704\", \"\\uc288\\ud37c\\ucef4\\ud4e8\\ud130\", \"\\uc288\\ud37c\\ucef4\\ud4e8\\ud130\", \"\\uc288\\ud37c\\ucef4\\ud4e8\\ud130\", \"\\uc2a4\\ud14c\\uc774\", \"\\uc2a4\\ud14c\\uc774\", \"\\uc2a4\\ud14c\\uc774\", \"\\uc2dc\\uac04\", \"\\uc2dc\\uac04\", \"\\uc2dc\\uac04\", \"\\uc2dc\\ub9ac\\uc988\", \"\\uc2dc\\ub9ac\\uc988\", \"\\uc2dc\\ub9ac\\uc988\", \"\\uc2dc\\uc2a4\\ud15c\", \"\\uc2dc\\uc2a4\\ud15c\", \"\\uc2dc\\uc2a4\\ud15c\", \"\\uc2dc\\uc7a5\", \"\\uc2dc\\uc7a5\", \"\\uc2dc\\uc7a5\", \"\\uc2e4\\uc2dc\", \"\\uc544\\uc2dc\\uc544\", \"\\uc544\\uc2dc\\uc544\", \"\\uc544\\uc2dc\\uc544\", \"\\uc544\\uce74\\ub370\\ubbf8\", \"\\uc544\\uce74\\ub370\\ubbf8\", \"\\uc544\\uce74\\ub370\\ubbf8\", \"\\uc5b4\\ub824\\uc6c0\", \"\\uc5d0\\ud53d\", \"\\uc5d0\\ud53d\", \"\\uc5d0\\ud53d\", \"\\uc5d4\\ub4dc\", \"\\uc5ec\\uae30\", \"\\uc5ec\\uae30\", \"\\uc5ec\\ub3c4\", \"\\uc5ed\\ub7c9\", \"\\uc5ed\\ub7c9\", \"\\uc5ed\\ub7c9\", \"\\uc5f0\\uac04\", \"\\uc5f0\\uac04\", \"\\uc5f0\\uac04\", \"\\uc5f0\\uacb0\", \"\\uc5f0\\uacb0\", \"\\uc5f0\\uacb0\", \"\\uc5f0\\ubd09\", \"\\uc5f0\\ubd09\", \"\\uc5f4\\ud48d\", \"\\uc5f4\\ud48d\", \"\\uc601\\uc5b4\", \"\\uc601\\uc5b4\", \"\\uc601\\uc5b4\", \"\\uc62c\\ud574\", \"\\uc62c\\ud574\", \"\\uc62c\\ud574\", \"\\uc6b4\\uc6a9\", \"\\uc6cc\\ud06c\", \"\\uc6cc\\ud06c\", \"\\uc6cc\\ud06c\", \"\\uc720\\uce58\", \"\\uc720\\uce58\", \"\\uc720\\uce58\", \"\\uc720\\ud589\\uc5b4\", \"\\uc720\\ud589\\uc5b4\", \"\\uc774\\ub178\\ubca0\\uc774\\uc158\", \"\\uc774\\ub178\\ubca0\\uc774\\uc158\", \"\\uc774\\ub178\\ubca0\\uc774\\uc158\", \"\\uc774\\uc218\", \"\\uc774\\uc218\", \"\\uc774\\uc218\", \"\\uc774\\uc81c\", \"\\uc774\\uc81c\", \"\\uc774\\uc81c\", \"\\uc778\\uacf5\\uc9c0\\ub2a5\", \"\\uc778\\uacf5\\uc9c0\\ub2a5\", \"\\uc778\\uacf5\\uc9c0\\ub2a5\", \"\\uc778\\uc6d0\", \"\\uc778\\uc6d0\", \"\\uc778\\uc6d0\", \"\\uc778\\uc7ac\", \"\\uc778\\uc7ac\", \"\\uc778\\uc7ac\", \"\\uc778\\ud154\", \"\\uc778\\ud154\", \"\\uc778\\ud154\", \"\\uc77c\\ubd80\", \"\\uc77c\\ubd80\", \"\\uc77c\\ubd80\", \"\\uc77c\\uc790\\ub9ac\", \"\\uc77c\\uc790\\ub9ac\", \"\\uc77c\\uc790\\ub9ac\", \"\\uc790\\uae30\", \"\\uc790\\uae30\", \"\\uc790\\uc2e0\", \"\\uc790\\uc2e0\", \"\\uc790\\uc5f0\", \"\\uc7a5\\ud559\\uc0dd\", \"\\uc801\\uc6a9\", \"\\uc801\\uc6a9\", \"\\uc801\\uc6a9\", \"\\uc804\\uacf5\", \"\\uc804\\uacf5\", \"\\uc804\\uacf5\", \"\\uc815\\ubcf4\", \"\\uc815\\ubcf4\", \"\\uc815\\ubcf4\", \"\\uc815\\ubd80\", \"\\uc815\\ubd80\", \"\\uc815\\ubd80\", \"\\uc815\\ud615\", \"\\uc81c\\uacf5\", \"\\uc81c\\uacf5\", \"\\uc81c\\uacf5\", \"\\uc81c\\uc2dc\", \"\\uc81c\\uc628\", \"\\uc81c\\uc628\", \"\\uc81c\\uc628\", \"\\uc900\\ube44\", \"\\uc900\\ube44\", \"\\uc900\\ube44\", \"\\uc9c0\\ub2c8\", \"\\uc9c0\\ub2c8\", \"\\uc9c0\\ub2c8\", \"\\uc9c0\\uc6d0\", \"\\uc9c0\\uc6d0\", \"\\uc9c0\\uc6d0\", \"\\uc9c0\\uc740\", \"\\uc9c1\\uad70\", \"\\uc9c1\\uad70\", \"\\uc9c1\\uad70\", \"\\uc9c4\\ub85c\", \"\\uc9c4\\ub85c\", \"\\uc9c4\\ub85c\", \"\\uc9c4\\ud589\", \"\\uc9c4\\ud589\", \"\\uc9c4\\ud589\", \"\\ucc44\\uc9c4\\uc11d\", \"\\ucc44\\uc9c4\\uc11d\", \"\\uccad\\ub144\", \"\\uccad\\ub144\", \"\\uccad\\ub144\", \"\\ucd09\\uc9c4\", \"\\ucd9c\\uac04\", \"\\ucd9c\\uac04\", \"\\ucd9c\\uc2dc\", \"\\ucd9c\\uc2dc\", \"\\ucd9c\\uc2dc\", \"\\ucde8\\uc5c5\", \"\\ucde8\\uc5c5\", \"\\ucde8\\uc5c5\", \"\\uce74\\ub77c\", \"\\uce74\\ub77c\", \"\\uce74\\ub77c\", \"\\uce74\\uce74\\uc624\", \"\\uce74\\uce74\\uc624\", \"\\ucee4\\ub9ac\\uc5b4\", \"\\ucee4\\ub9ac\\uc5b4\", \"\\ucf54\\ub4dc\", \"\\ucf54\\ub4dc\", \"\\ucf54\\ub4dc\", \"\\ucf54\\ub529\", \"\\ucf54\\ub529\", \"\\ucf54\\ub529\", \"\\ucfe0\\ud321\", \"\\ucfe0\\ud321\", \"\\ud0d1\\uc7ac\", \"\\ud0d1\\uc7ac\", \"\\ud0d1\\uc7ac\", \"\\ud14c\\ud06c\", \"\\ud14c\\ud06c\", \"\\ud14c\\ud06c\", \"\\ud30c\\uc774\\uc36c\", \"\\ud30c\\uc774\\uc36c\", \"\\ud30c\\uc774\\uc36c\", \"\\ud30c\\ud2b8\\ub108\", \"\\ud30c\\ud2b8\\ub108\", \"\\ud398\\uc774\\ud37c\", \"\\ud504\\ub85c\\uadf8\\ub7a8\", \"\\ud504\\ub85c\\uadf8\\ub7a8\", \"\\ud504\\ub85c\\uadf8\\ub7a8\", \"\\ud504\\ub85c\\uc138\\uc11c\", \"\\ud504\\ub85c\\uc138\\uc11c\", \"\\ud504\\ub85c\\uc138\\uc11c\", \"\\ud50c\\ub808\\uc774\\uc5b4\", \"\\ud50c\\ub808\\uc774\\uc5b4\", \"\\ud50c\\ub808\\uc774\\uc5b4\", \"\\ud544\\uc694\", \"\\ud544\\uc694\", \"\\ud544\\uc694\", \"\\ud558\\uc774\\ub2c9\\uc2a4\", \"\\ud558\\uc774\\ub2c9\\uc2a4\", \"\\ud558\\uc774\\ub2c9\\uc2a4\", \"\\ud559\\uc2b5\", \"\\ud559\\uc2b5\", \"\\ud559\\uc2b5\", \"\\ud604\\uc7a5\", \"\\ud604\\uc7a5\", \"\\ud604\\uc7a5\", \"\\ud611\\uc5c5\", \"\\ud611\\uc5c5\", \"\\ud611\\uc5c5\", \"\\ud638\\uae30\", \"\\ud638\\uae30\", \"\\ud638\\uae30\", \"\\ud655\\ub300\", \"\\ud655\\ub300\", \"\\ud655\\ub300\", \"\\ud655\\ucda9\", \"\\ud655\\ucda9\", \"\\ud655\\ucda9\", \"\\ud65c\\uc6a9\", \"\\ud65c\\uc6a9\", \"\\ud65c\\uc6a9\"]}, \"R\": 30, \"lambda.step\": 0.01, \"plot.opts\": {\"xlab\": \"PC1\", \"ylab\": \"PC2\"}, \"topic.order\": [1, 2, 3]};\n",
       "\n",
       "function LDAvis_load_lib(url, callback){\n",
       "  var s = document.createElement('script');\n",
       "  s.src = url;\n",
       "  s.async = true;\n",
       "  s.onreadystatechange = s.onload = callback;\n",
       "  s.onerror = function(){console.warn(\"failed to load library \" + url);};\n",
       "  document.getElementsByTagName(\"head\")[0].appendChild(s);\n",
       "}\n",
       "\n",
       "if(typeof(LDAvis) !== \"undefined\"){\n",
       "   // already loaded: just create the visualization\n",
       "   !function(LDAvis){\n",
       "       new LDAvis(\"#\" + \"ldavis_el9508830070248360648016892194\", ldavis_el9508830070248360648016892194_data);\n",
       "   }(LDAvis);\n",
       "}else if(typeof define === \"function\" && define.amd){\n",
       "   // require.js is available: use it to load d3/LDAvis\n",
       "   require.config({paths: {d3: \"https://d3js.org/d3.v5\"}});\n",
       "   require([\"d3\"], function(d3){\n",
       "      window.d3 = d3;\n",
       "      LDAvis_load_lib(\"https://cdn.jsdelivr.net/gh/bmabey/pyLDAvis@3.2.2/pyLDAvis/js/ldavis.v3.0.0.js\", function(){\n",
       "        new LDAvis(\"#\" + \"ldavis_el9508830070248360648016892194\", ldavis_el9508830070248360648016892194_data);\n",
       "      });\n",
       "    });\n",
       "}else{\n",
       "    // require.js not available: dynamically load d3 & LDAvis\n",
       "    LDAvis_load_lib(\"https://d3js.org/d3.v5.js\", function(){\n",
       "         LDAvis_load_lib(\"https://cdn.jsdelivr.net/gh/bmabey/pyLDAvis@3.2.2/pyLDAvis/js/ldavis.v3.0.0.js\", function(){\n",
       "                 new LDAvis(\"#\" + \"ldavis_el9508830070248360648016892194\", ldavis_el9508830070248360648016892194_data);\n",
       "            })\n",
       "         });\n",
       "}\n",
       "</script>"
      ],
      "text/plain": [
       "PreparedData(topic_coordinates=              x         y  topics  cluster       Freq\n",
       "topic                                                \n",
       "0     -0.005975  0.009926       1        1  36.851318\n",
       "1      0.018154 -0.002030       2        1  35.649057\n",
       "2     -0.012179 -0.007896       3        1  27.499625, topic_info=      Term       Freq      Total Category  logprob  loglift\n",
       "152    개발자  19.000000  19.000000  Default  30.0000  30.0000\n",
       "130   프로그램  20.000000  20.000000  Default  29.0000  29.0000\n",
       "560     인텔  13.000000  13.000000  Default  28.0000  28.0000\n",
       "155     과정  16.000000  16.000000  Default  27.0000  27.0000\n",
       "42      분석   8.000000   8.000000  Default  26.0000  26.0000\n",
       "..     ...        ...        ...      ...      ...      ...\n",
       "165    데이터   3.068591  19.126258   Topic3  -5.2930  -0.5388\n",
       "148     활용   2.376499   9.462794   Topic3  -5.5486  -0.0907\n",
       "531  슈퍼컴퓨터   2.403407  10.206385   Topic3  -5.5374  -0.1551\n",
       "155     과정   2.405732  16.965927   Topic3  -5.5364  -0.6624\n",
       "152    개발자   2.447608  19.964372   Topic3  -5.5192  -0.8078\n",
       "\n",
       "[222 rows x 6 columns], token_table=      Topic      Freq Term\n",
       "term                      \n",
       "0         1  0.586662   가능\n",
       "0         2  0.195554   가능\n",
       "0         3  0.195554   가능\n",
       "152       1  0.250446  개발자\n",
       "152       2  0.601071  개발자\n",
       "...     ...       ...  ...\n",
       "360       2  0.465971   확충\n",
       "360       3  0.465971   확충\n",
       "148       1  0.422708   활용\n",
       "148       2  0.317031   활용\n",
       "148       3  0.211354   활용\n",
       "\n",
       "[370 rows x 3 columns], R=30, lambda_step=0.01, plot_opts={'xlab': 'PC1', 'ylab': 'PC2'}, topic_order=[1, 2, 3])"
      ]
     },
     "execution_count": 19,
     "metadata": {},
     "output_type": "execute_result"
    }
   ],
   "source": [
    "# pyLDAvis 불러오기\n",
    "import pyLDAvis\n",
    "import pyLDAvis.gensim\n",
    "\n",
    "# pyLDAvis를 jupyter notebook에서 실행할 수 있게 활성화.\n",
    "pyLDAvis.enable_notebook()\n",
    "\n",
    "# pyLDAvis 실행.\n",
    "data = pyLDAvis.gensim.prepare(model,corpus,dictionary)\n",
    "data"
   ]
  },
  {
   "cell_type": "code",
   "execution_count": null,
   "metadata": {},
   "outputs": [],
   "source": []
  }
 ],
 "metadata": {
  "hide_input": false,
  "kernelspec": {
   "display_name": "Python 3",
   "language": "python",
   "name": "python3"
  },
  "language_info": {
   "codemirror_mode": {
    "name": "ipython",
    "version": 3
   },
   "file_extension": ".py",
   "mimetype": "text/x-python",
   "name": "python",
   "nbconvert_exporter": "python",
   "pygments_lexer": "ipython3",
   "version": "3.6.10"
  },
  "latex_metadata": {
   "author": "이기황",
   "coursetitle": "텍스트분석기법",
   "courseyear": "2018",
   "date": "2018.04.18",
   "logofile": "figs/ewhauniv-logo.png",
   "logoraise": "-.2",
   "logoscale": ".4",
   "title": "단어 임베딩과 토픽 모델링"
  },
  "toc": {
   "base_numbering": 1,
   "nav_menu": {},
   "number_sections": true,
   "sideBar": true,
   "skip_h1_title": false,
   "title_cell": "Table of Contents",
   "title_sidebar": "Contents",
   "toc_cell": false,
   "toc_position": {},
   "toc_section_display": true,
   "toc_window_display": false
  },
  "varInspector": {
   "cols": {
    "lenName": 16,
    "lenType": 16,
    "lenVar": 40
   },
   "kernels_config": {
    "python": {
     "delete_cmd_postfix": "",
     "delete_cmd_prefix": "del ",
     "library": "var_list.py",
     "varRefreshCmd": "print(var_dic_list())"
    },
    "r": {
     "delete_cmd_postfix": ") ",
     "delete_cmd_prefix": "rm(",
     "library": "var_list.r",
     "varRefreshCmd": "cat(var_dic_list()) "
    }
   },
   "types_to_exclude": [
    "module",
    "function",
    "builtin_function_or_method",
    "instance",
    "_Feature"
   ],
   "window_display": false
  }
 },
 "nbformat": 4,
 "nbformat_minor": 2
}
